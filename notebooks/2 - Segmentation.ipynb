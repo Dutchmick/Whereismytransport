{
 "cells": [
  {
   "cell_type": "markdown",
   "metadata": {},
   "source": [
    "# Notebook objective"
   ]
  },
  {
   "cell_type": "markdown",
   "metadata": {},
   "source": [
    "Create meaningful segments based on notification patterns over time. Meaningful is considered a user who opens a message."
   ]
  },
  {
   "cell_type": "markdown",
   "metadata": {},
   "source": [
    "Source: https://drive.google.com/drive/folders/1akT7jbXYy2-zLHEtnK3q6vqcQ-JdRO9H"
   ]
  },
  {
   "cell_type": "markdown",
   "metadata": {},
   "source": [
    "# Rationale"
   ]
  },
  {
   "cell_type": "markdown",
   "metadata": {},
   "source": [
    "I have selected the first exercise, user segment creation, because of the following reasons:\n",
    "-\tMost work a data scientist does is data cleaning, which includes customer segmentation. Because of that I thought it would be most useful to demonstrate my skills in this area;\n",
    "-\tCreating user segments is useful for any company and always adds value. Better understanding a client base allows for better user targeting and product improvement. On top of that, depending on the use case, segments can be stored in a feature storage to use for future product features and data analytics exercises;\n",
    "-\tI have worked on quite some message effectiveness/improvement campaigns and found that AB testing is the most reliable method to do this because it eliminates external influences (eg phone user broke, technical issues. Within the tech space Whereismytransport is in, it should be fairly easy to implement and manage this;\n",
    "-\tI would assume that geographical entities are already available for Whereismytransport, so creating a tool which extracts these wouldn't directly be of use.\n"
   ]
  },
  {
   "cell_type": "markdown",
   "metadata": {},
   "source": [
    "# Potential next steps"
   ]
  },
  {
   "cell_type": "markdown",
   "metadata": {},
   "source": [
    "- Add column message sending time - Users are likely to read a message when its useful for them (eg before rush hour);\n",
    "- Depending on the use case of this excersis, outliers may be removed;\n",
    "- Add more system features which are not available in the current dataset (eg reason for messaging, geographical area, transportation type, subscription type)."
   ]
  },
  {
   "cell_type": "markdown",
   "metadata": {},
   "source": [
    "# Preparation"
   ]
  },
  {
   "cell_type": "code",
   "execution_count": 1,
   "metadata": {},
   "outputs": [],
   "source": [
    "import numpy as np\n",
    "import pandas as pd\n",
    "from datetime import datetime, timedelta\n",
    "import os\n",
    "from sklearn.preprocessing import MinMaxScaler\n",
    "from sklearn.cluster import KMeans\n",
    "import matplotlib.pyplot as plt\n",
    "import seaborn as sns"
   ]
  },
  {
   "cell_type": "code",
   "execution_count": 3,
   "metadata": {},
   "outputs": [
    {
     "name": "stderr",
     "output_type": "stream",
     "text": [
      "5:80: E501 line too long (95 > 79 characters)\n"
     ]
    }
   ],
   "source": [
    "# Create a function which can create a histogram, split by a variable\n",
    "def plot_histogram_dv(x, y):\n",
    "    plt.hist(list(x[y == 0]), alpha=0.5, label='DV=0')\n",
    "    plt.hist(list(x[y == 1]), alpha=0.5, label='DV=1')\n",
    "    plt.title(\"Histogram of '{var_name}' per \" + segment + \" category\".format(var_name=x.name))\n",
    "    plt.xlabel(\"Value\")\n",
    "    plt.xticks(rotation='vertical')\n",
    "    plt.ylabel(\"Frequency\")\n",
    "    plt.legend(loc='upper right')\n",
    "    plt.show()"
   ]
  },
  {
   "cell_type": "markdown",
   "metadata": {},
   "source": [
    "## Folder structure"
   ]
  },
  {
   "cell_type": "code",
   "execution_count": 4,
   "metadata": {},
   "outputs": [],
   "source": [
    "# Make root folder the current working directory\n",
    "os.chdir('..')"
   ]
  },
  {
   "cell_type": "code",
   "execution_count": 5,
   "metadata": {},
   "outputs": [],
   "source": [
    "input_folder = './data/raw/'"
   ]
  },
  {
   "cell_type": "code",
   "execution_count": 6,
   "metadata": {},
   "outputs": [],
   "source": [
    "output_folder = './reports/figures/'"
   ]
  },
  {
   "cell_type": "markdown",
   "metadata": {},
   "source": [
    "## Data import"
   ]
  },
  {
   "cell_type": "code",
   "execution_count": 7,
   "metadata": {},
   "outputs": [
    {
     "data": {
      "text/html": [
       "<div>\n",
       "<style scoped>\n",
       "    .dataframe tbody tr th:only-of-type {\n",
       "        vertical-align: middle;\n",
       "    }\n",
       "\n",
       "    .dataframe tbody tr th {\n",
       "        vertical-align: top;\n",
       "    }\n",
       "\n",
       "    .dataframe thead th {\n",
       "        text-align: right;\n",
       "    }\n",
       "</style>\n",
       "<table border=\"1\" class=\"dataframe\">\n",
       "  <thead>\n",
       "    <tr style=\"text-align: right;\">\n",
       "      <th></th>\n",
       "      <th>Unnamed: 0</th>\n",
       "      <th>document_id</th>\n",
       "      <th>published_at</th>\n",
       "      <th>description</th>\n",
       "    </tr>\n",
       "  </thead>\n",
       "  <tbody>\n",
       "    <tr>\n",
       "      <th>0</th>\n",
       "      <td>0</td>\n",
       "      <td>-MUH7_dRaJMkhnxY9bHs</td>\n",
       "      <td>2021-02-24 03:58:39+00:00</td>\n",
       "      <td>🔥 Considera retrasos por servicios de emergenc...</td>\n",
       "    </tr>\n",
       "    <tr>\n",
       "      <th>1</th>\n",
       "      <td>1</td>\n",
       "      <td>-MUH7_dRaJMkhnxY9bHs</td>\n",
       "      <td>2021-02-24 03:58:39+00:00</td>\n",
       "      <td>🔥 Considera retrasos por servicios de emergenc...</td>\n",
       "    </tr>\n",
       "  </tbody>\n",
       "</table>\n",
       "</div>"
      ],
      "text/plain": [
       "   Unnamed: 0           document_id               published_at  \\\n",
       "0           0  -MUH7_dRaJMkhnxY9bHs  2021-02-24 03:58:39+00:00   \n",
       "1           1  -MUH7_dRaJMkhnxY9bHs  2021-02-24 03:58:39+00:00   \n",
       "\n",
       "                                         description  \n",
       "0  🔥 Considera retrasos por servicios de emergenc...  \n",
       "1  🔥 Considera retrasos por servicios de emergenc...  "
      ]
     },
     "execution_count": 7,
     "metadata": {},
     "output_type": "execute_result"
    }
   ],
   "source": [
    "alerts_df = pd.read_csv(input_folder + 'alerts.csv')\n",
    "alerts_df.head(2)"
   ]
  },
  {
   "cell_type": "code",
   "execution_count": 8,
   "metadata": {},
   "outputs": [
    {
     "data": {
      "text/html": [
       "<div>\n",
       "<style scoped>\n",
       "    .dataframe tbody tr th:only-of-type {\n",
       "        vertical-align: middle;\n",
       "    }\n",
       "\n",
       "    .dataframe tbody tr th {\n",
       "        vertical-align: top;\n",
       "    }\n",
       "\n",
       "    .dataframe thead th {\n",
       "        text-align: right;\n",
       "    }\n",
       "</style>\n",
       "<table border=\"1\" class=\"dataframe\">\n",
       "  <thead>\n",
       "    <tr style=\"text-align: right;\">\n",
       "      <th></th>\n",
       "      <th>Unnamed: 0</th>\n",
       "      <th>event_date</th>\n",
       "      <th>event_timestamp</th>\n",
       "      <th>event_name</th>\n",
       "      <th>user_id</th>\n",
       "      <th>join_key_value</th>\n",
       "    </tr>\n",
       "  </thead>\n",
       "  <tbody>\n",
       "    <tr>\n",
       "      <th>0</th>\n",
       "      <td>0</td>\n",
       "      <td>2021-05-29</td>\n",
       "      <td>1622251203899000</td>\n",
       "      <td>notification_receive</td>\n",
       "      <td>283a1</td>\n",
       "      <td>-Maph6wn8GA3SjPIc9HA</td>\n",
       "    </tr>\n",
       "    <tr>\n",
       "      <th>1</th>\n",
       "      <td>1</td>\n",
       "      <td>2021-05-29</td>\n",
       "      <td>1622257988561000</td>\n",
       "      <td>notification_receive</td>\n",
       "      <td>283a1</td>\n",
       "      <td>-Maq63vqDUxQRawQ_3Au</td>\n",
       "    </tr>\n",
       "  </tbody>\n",
       "</table>\n",
       "</div>"
      ],
      "text/plain": [
       "   Unnamed: 0 event_date   event_timestamp            event_name user_id  \\\n",
       "0           0 2021-05-29  1622251203899000  notification_receive   283a1   \n",
       "1           1 2021-05-29  1622257988561000  notification_receive   283a1   \n",
       "\n",
       "         join_key_value  \n",
       "0  -Maph6wn8GA3SjPIc9HA  \n",
       "1  -Maq63vqDUxQRawQ_3Au  "
      ]
     },
     "execution_count": 8,
     "metadata": {},
     "output_type": "execute_result"
    },
    {
     "name": "stderr",
     "output_type": "stream",
     "text": [
      "1:1: E731 do not assign a lambda expression, use a def\n"
     ]
    }
   ],
   "source": [
    "dateparse = lambda x: datetime.strptime(x, '%Y%m%d')\n",
    "notifications_df = pd.read_csv(input_folder + 'notfications.csv',\n",
    "                               parse_dates=['event_date'])\n",
    "notifications_df.head(2)"
   ]
  },
  {
   "cell_type": "code",
   "execution_count": 9,
   "metadata": {},
   "outputs": [
    {
     "data": {
      "text/plain": [
       "484"
      ]
     },
     "execution_count": 9,
     "metadata": {},
     "output_type": "execute_result"
    }
   ],
   "source": [
    "notifications_df.isnull().sum().sum()"
   ]
  },
  {
   "cell_type": "markdown",
   "metadata": {},
   "source": [
    "# Data cleaning"
   ]
  },
  {
   "cell_type": "code",
   "execution_count": 10,
   "metadata": {},
   "outputs": [
    {
     "data": {
      "text/plain": [
       "0       2021-02-24 03:58:39\n",
       "1       2021-02-24 03:58:39\n",
       "2       2021-03-31 22:54:19\n",
       "3       2021-03-31 22:54:19\n",
       "4       2021-03-31 22:54:19\n",
       "                ...        \n",
       "13537   2021-04-30 21:32:24\n",
       "13538   2021-05-04 00:52:21\n",
       "13539   2021-03-26 14:44:15\n",
       "13540   2021-01-27 17:51:51\n",
       "13541   2021-06-25 11:25:49\n",
       "Name: published_at, Length: 13542, dtype: datetime64[ns]"
      ]
     },
     "execution_count": 10,
     "metadata": {},
     "output_type": "execute_result"
    }
   ],
   "source": [
    "# Make date field a pandas date type\n",
    "alerts_df['published_at'] = alerts_df['published_at'].str[:19]\n",
    "alerts_df['published_at'] = pd.to_datetime(alerts_df['published_at'])\n",
    "alerts_df['published_at']"
   ]
  },
  {
   "cell_type": "code",
   "execution_count": 11,
   "metadata": {},
   "outputs": [
    {
     "data": {
      "text/html": [
       "<div>\n",
       "<style scoped>\n",
       "    .dataframe tbody tr th:only-of-type {\n",
       "        vertical-align: middle;\n",
       "    }\n",
       "\n",
       "    .dataframe tbody tr th {\n",
       "        vertical-align: top;\n",
       "    }\n",
       "\n",
       "    .dataframe thead th {\n",
       "        text-align: right;\n",
       "    }\n",
       "</style>\n",
       "<table border=\"1\" class=\"dataframe\">\n",
       "  <thead>\n",
       "    <tr style=\"text-align: right;\">\n",
       "      <th></th>\n",
       "      <th>Unnamed: 0</th>\n",
       "      <th>document_id</th>\n",
       "      <th>published_at</th>\n",
       "      <th>description</th>\n",
       "    </tr>\n",
       "  </thead>\n",
       "  <tbody>\n",
       "  </tbody>\n",
       "</table>\n",
       "</div>"
      ],
      "text/plain": [
       "Empty DataFrame\n",
       "Columns: [Unnamed: 0, document_id, published_at, description]\n",
       "Index: []"
      ]
     },
     "execution_count": 11,
     "metadata": {},
     "output_type": "execute_result"
    }
   ],
   "source": [
    "# Drop rows with missing date field\n",
    "alerts_df.dropna(axis=0, inplace=True)\n",
    "alerts_df[alerts_df['published_at'].isnull()]"
   ]
  },
  {
   "cell_type": "code",
   "execution_count": 12,
   "metadata": {},
   "outputs": [],
   "source": [
    "# Recode similar event names\n",
    "notifications_df['event_name'].replace('notification_received',\n",
    "                                       'notification_receive', inplace=True)\n",
    "notifications_df['event_name'].replace('notification_opened',\n",
    "                                       'notification_open', inplace=True)"
   ]
  },
  {
   "cell_type": "markdown",
   "metadata": {},
   "source": [
    "# Segment creation"
   ]
  },
  {
   "cell_type": "markdown",
   "metadata": {},
   "source": [
    "This part of the notebook will be used to create meaningful segments. Meaningful is defined as a user opening a message, so each feature will be evaluated as such."
   ]
  },
  {
   "cell_type": "markdown",
   "metadata": {},
   "source": [
    "Note that outliers haven't been dealt with in this excersise. However, depending on the use case it may be useful to do something with them in order not to skew the results."
   ]
  },
  {
   "cell_type": "markdown",
   "metadata": {},
   "source": [
    "## active_days"
   ]
  },
  {
   "cell_type": "code",
   "execution_count": 13,
   "metadata": {},
   "outputs": [],
   "source": [
    "segment = 'active_days'"
   ]
  },
  {
   "cell_type": "code",
   "execution_count": 14,
   "metadata": {},
   "outputs": [
    {
     "name": "stderr",
     "output_type": "stream",
     "text": [
      "2:80: E501 line too long (81 > 79 characters)\n"
     ]
    }
   ],
   "source": [
    "# add columns first and last interaction\n",
    "user_df = notifications_df.groupby('user_id')['event_date'].agg([np.min, np.max])\n",
    "user_df.reset_index(inplace=True)\n",
    "# create a new feature based active customer days\n",
    "user_df[segment] = user_df['amax'] - user_df['amin']\n",
    "user_df[segment] = user_df[segment].astype('timedelta64[D]') "
   ]
  },
  {
   "cell_type": "code",
   "execution_count": 15,
   "metadata": {},
   "outputs": [
    {
     "data": {
      "text/plain": [
       "count    18258.000000\n",
       "mean        37.334045\n",
       "std         51.458901\n",
       "min          0.000000\n",
       "25%          0.000000\n",
       "50%         11.000000\n",
       "75%         57.000000\n",
       "max        188.000000\n",
       "Name: active_days, dtype: float64"
      ]
     },
     "execution_count": 15,
     "metadata": {},
     "output_type": "execute_result"
    }
   ],
   "source": [
    "user_df[segment].describe()"
   ]
  },
  {
   "cell_type": "code",
   "execution_count": 16,
   "metadata": {},
   "outputs": [
    {
     "data": {
      "text/plain": [
       "<AxesSubplot:>"
      ]
     },
     "execution_count": 16,
     "metadata": {},
     "output_type": "execute_result"
    },
    {
     "data": {
      "image/png": "[encoded data removed]",
      "text/plain": [
       "<Figure size 432x288 with 1 Axes>"
      ]
     },
     "metadata": {
      "needs_background": "light"
     },
     "output_type": "display_data"
    }
   ],
   "source": [
    "user_df.boxplot(segment)"
   ]
  },
  {
   "cell_type": "markdown",
   "metadata": {},
   "source": [
    "This boxplot shows that there are some outliers in the dataset, which can skew the results."
   ]
  },
  {
   "cell_type": "markdown",
   "metadata": {},
   "source": [
    "## message_opened_count"
   ]
  },
  {
   "cell_type": "code",
   "execution_count": 17,
   "metadata": {},
   "outputs": [],
   "source": [
    "segment = 'message_opened_count'"
   ]
  },
  {
   "cell_type": "code",
   "execution_count": 18,
   "metadata": {},
   "outputs": [
    {
     "name": "stderr",
     "output_type": "stream",
     "text": [
      "2:80: E501 line too long (83 > 79 characters)\n",
      "3:80: E501 line too long (89 > 79 characters)\n"
     ]
    }
   ],
   "source": [
    "# add outcome features interactions\n",
    "opened_df = notifications_df[notifications_df['event_name'] == 'notification_open']\n",
    "opened_df = opened_df[['user_id', 'event_name']].groupby('user_id').count().reset_index()\n",
    "user_df = pd.merge(user_df, opened_df, how='left', on='user_id')\n",
    "user_df.rename(columns={'event_name': segment}, inplace=True)\n",
    "user_df[segment].fillna(0, inplace=True)"
   ]
  },
  {
   "cell_type": "code",
   "execution_count": 19,
   "metadata": {},
   "outputs": [
    {
     "data": {
      "text/html": [
       "<div>\n",
       "<style scoped>\n",
       "    .dataframe tbody tr th:only-of-type {\n",
       "        vertical-align: middle;\n",
       "    }\n",
       "\n",
       "    .dataframe tbody tr th {\n",
       "        vertical-align: top;\n",
       "    }\n",
       "\n",
       "    .dataframe thead th {\n",
       "        text-align: right;\n",
       "    }\n",
       "</style>\n",
       "<table border=\"1\" class=\"dataframe\">\n",
       "  <thead>\n",
       "    <tr style=\"text-align: right;\">\n",
       "      <th></th>\n",
       "      <th>user_id</th>\n",
       "      <th>amin</th>\n",
       "      <th>amax</th>\n",
       "      <th>active_days</th>\n",
       "      <th>message_opened_count</th>\n",
       "    </tr>\n",
       "  </thead>\n",
       "  <tbody>\n",
       "    <tr>\n",
       "      <th>0</th>\n",
       "      <td>00070</td>\n",
       "      <td>2021-01-25</td>\n",
       "      <td>2021-01-25</td>\n",
       "      <td>0.0</td>\n",
       "      <td>0.0</td>\n",
       "    </tr>\n",
       "    <tr>\n",
       "      <th>1</th>\n",
       "      <td>00087</td>\n",
       "      <td>2021-01-08</td>\n",
       "      <td>2021-01-21</td>\n",
       "      <td>13.0</td>\n",
       "      <td>0.0</td>\n",
       "    </tr>\n",
       "    <tr>\n",
       "      <th>2</th>\n",
       "      <td>000b3</td>\n",
       "      <td>2021-05-08</td>\n",
       "      <td>2021-05-08</td>\n",
       "      <td>0.0</td>\n",
       "      <td>0.0</td>\n",
       "    </tr>\n",
       "    <tr>\n",
       "      <th>3</th>\n",
       "      <td>000e1</td>\n",
       "      <td>2021-03-17</td>\n",
       "      <td>2021-03-24</td>\n",
       "      <td>7.0</td>\n",
       "      <td>0.0</td>\n",
       "    </tr>\n",
       "    <tr>\n",
       "      <th>4</th>\n",
       "      <td>00117</td>\n",
       "      <td>2021-03-01</td>\n",
       "      <td>2021-03-01</td>\n",
       "      <td>0.0</td>\n",
       "      <td>0.0</td>\n",
       "    </tr>\n",
       "  </tbody>\n",
       "</table>\n",
       "</div>"
      ],
      "text/plain": [
       "  user_id       amin       amax  active_days  message_opened_count\n",
       "0   00070 2021-01-25 2021-01-25          0.0                   0.0\n",
       "1   00087 2021-01-08 2021-01-21         13.0                   0.0\n",
       "2   000b3 2021-05-08 2021-05-08          0.0                   0.0\n",
       "3   000e1 2021-03-17 2021-03-24          7.0                   0.0\n",
       "4   00117 2021-03-01 2021-03-01          0.0                   0.0"
      ]
     },
     "execution_count": 19,
     "metadata": {},
     "output_type": "execute_result"
    }
   ],
   "source": [
    "user_df.head()"
   ]
  },
  {
   "cell_type": "code",
   "execution_count": 20,
   "metadata": {},
   "outputs": [
    {
     "data": {
      "text/plain": [
       "count    18258.000000\n",
       "mean         2.193504\n",
       "std          9.770521\n",
       "min          0.000000\n",
       "25%          0.000000\n",
       "50%          0.000000\n",
       "75%          2.000000\n",
       "max        637.000000\n",
       "Name: message_opened_count, dtype: float64"
      ]
     },
     "execution_count": 20,
     "metadata": {},
     "output_type": "execute_result"
    }
   ],
   "source": [
    "user_df[segment].describe()"
   ]
  },
  {
   "cell_type": "code",
   "execution_count": 21,
   "metadata": {},
   "outputs": [
    {
     "data": {
      "text/plain": [
       "<AxesSubplot:>"
      ]
     },
     "execution_count": 21,
     "metadata": {},
     "output_type": "execute_result"
    },
    {
     "data": {
      "image/png": "[encoded data removed]",
      "text/plain": [
       "<Figure size 432x288 with 1 Axes>"
      ]
     },
     "metadata": {
      "needs_background": "light"
     },
     "output_type": "display_data"
    }
   ],
   "source": [
    "user_df.boxplot(segment)"
   ]
  },
  {
   "cell_type": "markdown",
   "metadata": {},
   "source": [
    "This boxplot shows that there are some outliers in the dataset, which can skew the results."
   ]
  },
  {
   "cell_type": "markdown",
   "metadata": {},
   "source": [
    "## message_opened_TRUE"
   ]
  },
  {
   "cell_type": "code",
   "execution_count": 22,
   "metadata": {},
   "outputs": [],
   "source": [
    "segment = 'message_opened_TRUE'"
   ]
  },
  {
   "cell_type": "code",
   "execution_count": 23,
   "metadata": {},
   "outputs": [
    {
     "data": {
      "text/plain": [
       "False    0.588783\n",
       "True     0.411217\n",
       "Name: message_opened_TRUE, dtype: float64"
      ]
     },
     "execution_count": 23,
     "metadata": {},
     "output_type": "execute_result"
    }
   ],
   "source": [
    "user_df[segment] = user_df['message_opened_count'] > 0\n",
    "user_df[segment].value_counts(normalize=True)"
   ]
  },
  {
   "cell_type": "code",
   "execution_count": 24,
   "metadata": {},
   "outputs": [
    {
     "data": {
      "text/plain": [
       "<AxesSubplot:title={'center':'message_opened_TRUE'}>"
      ]
     },
     "execution_count": 24,
     "metadata": {},
     "output_type": "execute_result"
    },
    {
     "data": {
      "image/png": "[encoded data removed]",
      "text/plain": [
       "<Figure size 432x288 with 1 Axes>"
      ]
     },
     "metadata": {
      "needs_background": "light"
     },
     "output_type": "display_data"
    }
   ],
   "source": [
    "user_df[segment].value_counts(normalize=True).plot.bar(title=segment)"
   ]
  },
  {
   "cell_type": "markdown",
   "metadata": {},
   "source": [
    "This segment shows that 41% of all users opened at least one message they received."
   ]
  },
  {
   "cell_type": "markdown",
   "metadata": {},
   "source": [
    "## message_received_count"
   ]
  },
  {
   "cell_type": "code",
   "execution_count": 25,
   "metadata": {},
   "outputs": [],
   "source": [
    "segment = 'message_received_count'"
   ]
  },
  {
   "cell_type": "code",
   "execution_count": 26,
   "metadata": {},
   "outputs": [
    {
     "name": "stderr",
     "output_type": "stream",
     "text": [
      "2:80: E501 line too long (88 > 79 characters)\n",
      "3:80: E501 line too long (93 > 79 characters)\n"
     ]
    }
   ],
   "source": [
    "# Create count of messages each customer received\n",
    "received_df = notifications_df[notifications_df['event_name'] == 'notification_receive']\n",
    "received_df = received_df[['user_id', 'event_name']].groupby('user_id').count().reset_index()\n",
    "user_df = pd.merge(user_df, received_df, how='left', on='user_id')\n",
    "user_df.rename(columns={'event_name': segment}, inplace=True)\n",
    "user_df[segment].fillna(0, inplace=True)"
   ]
  },
  {
   "cell_type": "code",
   "execution_count": 27,
   "metadata": {},
   "outputs": [
    {
     "data": {
      "text/plain": [
       "<AxesSubplot:title={'center':'message_received_count'}, xlabel='message_opened_TRUE'>"
      ]
     },
     "execution_count": 27,
     "metadata": {},
     "output_type": "execute_result"
    },
    {
     "data": {
      "image/png": "[encoded data removed]",
      "text/plain": [
       "<Figure size 432x288 with 1 Axes>"
      ]
     },
     "metadata": {
      "needs_background": "light"
     },
     "output_type": "display_data"
    }
   ],
   "source": [
    "user_df.boxplot(segment, by='message_opened_TRUE')"
   ]
  },
  {
   "cell_type": "markdown",
   "metadata": {},
   "source": [
    "This boxplot shows that customers who opened a message are more likely to have received more messages."
   ]
  },
  {
   "cell_type": "markdown",
   "metadata": {},
   "source": [
    "## Message opened rate"
   ]
  },
  {
   "cell_type": "code",
   "execution_count": 28,
   "metadata": {},
   "outputs": [],
   "source": [
    "segment = 'message_opened_rate'"
   ]
  },
  {
   "cell_type": "code",
   "execution_count": 29,
   "metadata": {},
   "outputs": [
    {
     "name": "stderr",
     "output_type": "stream",
     "text": [
      "1:80: E501 line too long (86 > 79 characters)\n"
     ]
    }
   ],
   "source": [
    "user_df[segment] = user_df['message_opened_count'] / user_df['message_received_count']\n",
    "user_df[segment].replace([np.inf, -np.inf, np.nan], 0, inplace=True)"
   ]
  },
  {
   "cell_type": "code",
   "execution_count": 30,
   "metadata": {},
   "outputs": [
    {
     "data": {
      "text/plain": [
       "count    18258.000000\n",
       "mean         0.055794\n",
       "std          0.148107\n",
       "min          0.000000\n",
       "25%          0.000000\n",
       "50%          0.000000\n",
       "75%          0.034483\n",
       "max          2.000000\n",
       "Name: message_opened_rate, dtype: float64"
      ]
     },
     "execution_count": 30,
     "metadata": {},
     "output_type": "execute_result"
    }
   ],
   "source": [
    "user_df[segment].describe()"
   ]
  },
  {
   "cell_type": "markdown",
   "metadata": {},
   "source": [
    "## Average messages per active day"
   ]
  },
  {
   "cell_type": "code",
   "execution_count": 31,
   "metadata": {},
   "outputs": [],
   "source": [
    "segment = 'message_daily_avg'"
   ]
  },
  {
   "cell_type": "code",
   "execution_count": 32,
   "metadata": {},
   "outputs": [],
   "source": [
    "user_df[segment] = user_df['message_received_count'] / user_df['active_days']\n",
    "user_df[segment].replace([np.inf, -np.inf, np.nan], 0, inplace=True)"
   ]
  },
  {
   "cell_type": "code",
   "execution_count": 33,
   "metadata": {},
   "outputs": [
    {
     "data": {
      "text/plain": [
       "count    18258.000000\n",
       "mean         1.902396\n",
       "std          3.003240\n",
       "min          0.000000\n",
       "25%          0.000000\n",
       "50%          1.035243\n",
       "75%          2.581208\n",
       "max        166.000000\n",
       "Name: message_daily_avg, dtype: float64"
      ]
     },
     "execution_count": 33,
     "metadata": {},
     "output_type": "execute_result"
    }
   ],
   "source": [
    "user_df[segment].describe()"
   ]
  },
  {
   "cell_type": "code",
   "execution_count": 34,
   "metadata": {},
   "outputs": [
    {
     "data": {
      "text/plain": [
       "<AxesSubplot:title={'center':'message_daily_avg'}, xlabel='message_opened_TRUE'>"
      ]
     },
     "execution_count": 34,
     "metadata": {},
     "output_type": "execute_result"
    },
    {
     "data": {
      "image/png": "[encoded data removed]",
      "text/plain": [
       "<Figure size 432x288 with 1 Axes>"
      ]
     },
     "metadata": {
      "needs_background": "light"
     },
     "output_type": "display_data"
    }
   ],
   "source": [
    "user_df.boxplot(segment, by='message_opened_TRUE')"
   ]
  },
  {
   "cell_type": "markdown",
   "metadata": {},
   "source": [
    "## active user"
   ]
  },
  {
   "cell_type": "markdown",
   "metadata": {},
   "source": [
    "**Active user** - Considering that it is unlikely that all users in the database are active users, it may be useful to filter out whether customers are active. For this analysis, we have assumed that a user who has received or interacted with a message in the past seven days, is considered an active user. This can be adjusted depending on the business requirements."
   ]
  },
  {
   "cell_type": "code",
   "execution_count": 35,
   "metadata": {},
   "outputs": [
    {
     "data": {
      "text/plain": [
       "False    0.804415\n",
       "True     0.195585\n",
       "Name: active_user, dtype: float64"
      ]
     },
     "execution_count": 35,
     "metadata": {},
     "output_type": "execute_result"
    }
   ],
   "source": [
    "last_week = user_df['amax'].max() - timedelta(days=6)\n",
    "user_df['active_user'] = user_df['amax'] > last_week\n",
    "user_df['active_user'].value_counts(normalize=True)"
   ]
  },
  {
   "cell_type": "markdown",
   "metadata": {},
   "source": [
    "Around 20% of users have been active in the last week of the dataset."
   ]
  },
  {
   "cell_type": "markdown",
   "metadata": {},
   "source": [
    "## Segment evaluation"
   ]
  },
  {
   "cell_type": "code",
   "execution_count": 36,
   "metadata": {},
   "outputs": [
    {
     "data": {
      "text/html": [
       "<div>\n",
       "<style scoped>\n",
       "    .dataframe tbody tr th:only-of-type {\n",
       "        vertical-align: middle;\n",
       "    }\n",
       "\n",
       "    .dataframe tbody tr th {\n",
       "        vertical-align: top;\n",
       "    }\n",
       "\n",
       "    .dataframe thead th {\n",
       "        text-align: right;\n",
       "    }\n",
       "</style>\n",
       "<table border=\"1\" class=\"dataframe\">\n",
       "  <thead>\n",
       "    <tr style=\"text-align: right;\">\n",
       "      <th></th>\n",
       "      <th>active_days</th>\n",
       "      <th>message_opened_count</th>\n",
       "      <th>message_opened_TRUE</th>\n",
       "      <th>message_received_count</th>\n",
       "      <th>message_opened_rate</th>\n",
       "      <th>message_daily_avg</th>\n",
       "      <th>active_user</th>\n",
       "    </tr>\n",
       "  </thead>\n",
       "  <tbody>\n",
       "    <tr>\n",
       "      <th>active_days</th>\n",
       "      <td>1.000000</td>\n",
       "      <td>0.255833</td>\n",
       "      <td>0.395446</td>\n",
       "      <td>0.629823</td>\n",
       "      <td>-0.072463</td>\n",
       "      <td>0.015835</td>\n",
       "      <td>0.553033</td>\n",
       "    </tr>\n",
       "    <tr>\n",
       "      <th>message_opened_count</th>\n",
       "      <td>0.255833</td>\n",
       "      <td>1.000000</td>\n",
       "      <td>0.268643</td>\n",
       "      <td>0.294607</td>\n",
       "      <td>0.225241</td>\n",
       "      <td>0.113129</td>\n",
       "      <td>0.179559</td>\n",
       "    </tr>\n",
       "    <tr>\n",
       "      <th>message_opened_TRUE</th>\n",
       "      <td>0.395446</td>\n",
       "      <td>0.268643</td>\n",
       "      <td>1.000000</td>\n",
       "      <td>0.314324</td>\n",
       "      <td>0.450782</td>\n",
       "      <td>0.190322</td>\n",
       "      <td>0.275726</td>\n",
       "    </tr>\n",
       "    <tr>\n",
       "      <th>message_received_count</th>\n",
       "      <td>0.629823</td>\n",
       "      <td>0.294607</td>\n",
       "      <td>0.314324</td>\n",
       "      <td>1.000000</td>\n",
       "      <td>-0.082076</td>\n",
       "      <td>0.340406</td>\n",
       "      <td>0.408267</td>\n",
       "    </tr>\n",
       "    <tr>\n",
       "      <th>message_opened_rate</th>\n",
       "      <td>-0.072463</td>\n",
       "      <td>0.225241</td>\n",
       "      <td>0.450782</td>\n",
       "      <td>-0.082076</td>\n",
       "      <td>1.000000</td>\n",
       "      <td>-0.025403</td>\n",
       "      <td>-0.023383</td>\n",
       "    </tr>\n",
       "    <tr>\n",
       "      <th>message_daily_avg</th>\n",
       "      <td>0.015835</td>\n",
       "      <td>0.113129</td>\n",
       "      <td>0.190322</td>\n",
       "      <td>0.340406</td>\n",
       "      <td>-0.025403</td>\n",
       "      <td>1.000000</td>\n",
       "      <td>0.167935</td>\n",
       "    </tr>\n",
       "    <tr>\n",
       "      <th>active_user</th>\n",
       "      <td>0.553033</td>\n",
       "      <td>0.179559</td>\n",
       "      <td>0.275726</td>\n",
       "      <td>0.408267</td>\n",
       "      <td>-0.023383</td>\n",
       "      <td>0.167935</td>\n",
       "      <td>1.000000</td>\n",
       "    </tr>\n",
       "  </tbody>\n",
       "</table>\n",
       "</div>"
      ],
      "text/plain": [
       "                        active_days  message_opened_count  \\\n",
       "active_days                1.000000              0.255833   \n",
       "message_opened_count       0.255833              1.000000   \n",
       "message_opened_TRUE        0.395446              0.268643   \n",
       "message_received_count     0.629823              0.294607   \n",
       "message_opened_rate       -0.072463              0.225241   \n",
       "message_daily_avg          0.015835              0.113129   \n",
       "active_user                0.553033              0.179559   \n",
       "\n",
       "                        message_opened_TRUE  message_received_count  \\\n",
       "active_days                        0.395446                0.629823   \n",
       "message_opened_count               0.268643                0.294607   \n",
       "message_opened_TRUE                1.000000                0.314324   \n",
       "message_received_count             0.314324                1.000000   \n",
       "message_opened_rate                0.450782               -0.082076   \n",
       "message_daily_avg                  0.190322                0.340406   \n",
       "active_user                        0.275726                0.408267   \n",
       "\n",
       "                        message_opened_rate  message_daily_avg  active_user  \n",
       "active_days                       -0.072463           0.015835     0.553033  \n",
       "message_opened_count               0.225241           0.113129     0.179559  \n",
       "message_opened_TRUE                0.450782           0.190322     0.275726  \n",
       "message_received_count            -0.082076           0.340406     0.408267  \n",
       "message_opened_rate                1.000000          -0.025403    -0.023383  \n",
       "message_daily_avg                 -0.025403           1.000000     0.167935  \n",
       "active_user                       -0.023383           0.167935     1.000000  "
      ]
     },
     "execution_count": 36,
     "metadata": {},
     "output_type": "execute_result"
    }
   ],
   "source": [
    "user_df.corr()"
   ]
  },
  {
   "cell_type": "code",
   "execution_count": 37,
   "metadata": {},
   "outputs": [
    {
     "data": {
      "text/plain": [
       "<AxesSubplot:>"
      ]
     },
     "execution_count": 37,
     "metadata": {},
     "output_type": "execute_result"
    },
    {
     "data": {
      "image/png": "[encoded data removed]",
      "text/plain": [
       "<Figure size 432x288 with 2 Axes>"
      ]
     },
     "metadata": {
      "needs_background": "light"
     },
     "output_type": "display_data"
    }
   ],
   "source": [
    "sns.heatmap(user_df.corr(), annot=True)"
   ]
  },
  {
   "cell_type": "markdown",
   "metadata": {},
   "source": [
    "The above correlation table and graph shows that 'activity days' strongly correlated with 'message_received_count', which makes sense as people who are active longer will likely have received more messages."
   ]
  },
  {
   "cell_type": "markdown",
   "metadata": {},
   "source": [
    "# Clustering"
   ]
  },
  {
   "cell_type": "markdown",
   "metadata": {},
   "source": [
    "Clustering is a form of unsupervised machine learning which can be used to segment large datasets into groups of users with distinct behaviour. Depending on the business case, users can be targeted based on their behaviour by, for instance, the marketing team."
   ]
  },
  {
   "cell_type": "markdown",
   "metadata": {},
   "source": [
    "## Data standarisation"
   ]
  },
  {
   "cell_type": "code",
   "execution_count": 38,
   "metadata": {},
   "outputs": [],
   "source": [
    "# Drop unnecessary columns\n",
    "standardised_df = user_df.drop(['user_id', 'amin', 'amax'], axis=1)"
   ]
  },
  {
   "cell_type": "code",
   "execution_count": 39,
   "metadata": {},
   "outputs": [],
   "source": [
    "# Standardise dataset in preparation of clustering\n",
    "scaler = MinMaxScaler()\n",
    "scaler.fit(standardised_df)\n",
    "scaled_features = scaler.transform(standardised_df)\n",
    "columns = standardised_df.columns\n",
    "standardised_df = pd.DataFrame(scaled_features, columns=columns)"
   ]
  },
  {
   "cell_type": "code",
   "execution_count": 40,
   "metadata": {},
   "outputs": [
    {
     "data": {
      "text/html": [
       "<div>\n",
       "<style scoped>\n",
       "    .dataframe tbody tr th:only-of-type {\n",
       "        vertical-align: middle;\n",
       "    }\n",
       "\n",
       "    .dataframe tbody tr th {\n",
       "        vertical-align: top;\n",
       "    }\n",
       "\n",
       "    .dataframe thead th {\n",
       "        text-align: right;\n",
       "    }\n",
       "</style>\n",
       "<table border=\"1\" class=\"dataframe\">\n",
       "  <thead>\n",
       "    <tr style=\"text-align: right;\">\n",
       "      <th></th>\n",
       "      <th>active_days</th>\n",
       "      <th>message_opened_count</th>\n",
       "      <th>message_opened_TRUE</th>\n",
       "      <th>message_received_count</th>\n",
       "      <th>message_opened_rate</th>\n",
       "      <th>message_daily_avg</th>\n",
       "      <th>active_user</th>\n",
       "    </tr>\n",
       "  </thead>\n",
       "  <tbody>\n",
       "    <tr>\n",
       "      <th>count</th>\n",
       "      <td>18258.000000</td>\n",
       "      <td>18258.000000</td>\n",
       "      <td>18258.000000</td>\n",
       "      <td>18258.000000</td>\n",
       "      <td>18258.000000</td>\n",
       "      <td>18258.000000</td>\n",
       "      <td>18258.000000</td>\n",
       "    </tr>\n",
       "    <tr>\n",
       "      <th>mean</th>\n",
       "      <td>0.198585</td>\n",
       "      <td>0.003443</td>\n",
       "      <td>0.411217</td>\n",
       "      <td>0.020792</td>\n",
       "      <td>0.027897</td>\n",
       "      <td>0.011460</td>\n",
       "      <td>0.195585</td>\n",
       "    </tr>\n",
       "    <tr>\n",
       "      <th>std</th>\n",
       "      <td>0.273718</td>\n",
       "      <td>0.015338</td>\n",
       "      <td>0.492068</td>\n",
       "      <td>0.044829</td>\n",
       "      <td>0.074053</td>\n",
       "      <td>0.018092</td>\n",
       "      <td>0.396662</td>\n",
       "    </tr>\n",
       "    <tr>\n",
       "      <th>min</th>\n",
       "      <td>0.000000</td>\n",
       "      <td>0.000000</td>\n",
       "      <td>0.000000</td>\n",
       "      <td>0.000000</td>\n",
       "      <td>0.000000</td>\n",
       "      <td>0.000000</td>\n",
       "      <td>0.000000</td>\n",
       "    </tr>\n",
       "    <tr>\n",
       "      <th>25%</th>\n",
       "      <td>0.000000</td>\n",
       "      <td>0.000000</td>\n",
       "      <td>0.000000</td>\n",
       "      <td>0.001122</td>\n",
       "      <td>0.000000</td>\n",
       "      <td>0.000000</td>\n",
       "      <td>0.000000</td>\n",
       "    </tr>\n",
       "    <tr>\n",
       "      <th>50%</th>\n",
       "      <td>0.058511</td>\n",
       "      <td>0.000000</td>\n",
       "      <td>0.000000</td>\n",
       "      <td>0.004208</td>\n",
       "      <td>0.000000</td>\n",
       "      <td>0.006236</td>\n",
       "      <td>0.000000</td>\n",
       "    </tr>\n",
       "    <tr>\n",
       "      <th>75%</th>\n",
       "      <td>0.303191</td>\n",
       "      <td>0.003140</td>\n",
       "      <td>1.000000</td>\n",
       "      <td>0.019635</td>\n",
       "      <td>0.017241</td>\n",
       "      <td>0.015549</td>\n",
       "      <td>0.000000</td>\n",
       "    </tr>\n",
       "    <tr>\n",
       "      <th>max</th>\n",
       "      <td>1.000000</td>\n",
       "      <td>1.000000</td>\n",
       "      <td>1.000000</td>\n",
       "      <td>1.000000</td>\n",
       "      <td>1.000000</td>\n",
       "      <td>1.000000</td>\n",
       "      <td>1.000000</td>\n",
       "    </tr>\n",
       "  </tbody>\n",
       "</table>\n",
       "</div>"
      ],
      "text/plain": [
       "        active_days  message_opened_count  message_opened_TRUE  \\\n",
       "count  18258.000000          18258.000000         18258.000000   \n",
       "mean       0.198585              0.003443             0.411217   \n",
       "std        0.273718              0.015338             0.492068   \n",
       "min        0.000000              0.000000             0.000000   \n",
       "25%        0.000000              0.000000             0.000000   \n",
       "50%        0.058511              0.000000             0.000000   \n",
       "75%        0.303191              0.003140             1.000000   \n",
       "max        1.000000              1.000000             1.000000   \n",
       "\n",
       "       message_received_count  message_opened_rate  message_daily_avg  \\\n",
       "count            18258.000000         18258.000000       18258.000000   \n",
       "mean                 0.020792             0.027897           0.011460   \n",
       "std                  0.044829             0.074053           0.018092   \n",
       "min                  0.000000             0.000000           0.000000   \n",
       "25%                  0.001122             0.000000           0.000000   \n",
       "50%                  0.004208             0.000000           0.006236   \n",
       "75%                  0.019635             0.017241           0.015549   \n",
       "max                  1.000000             1.000000           1.000000   \n",
       "\n",
       "        active_user  \n",
       "count  18258.000000  \n",
       "mean       0.195585  \n",
       "std        0.396662  \n",
       "min        0.000000  \n",
       "25%        0.000000  \n",
       "50%        0.000000  \n",
       "75%        0.000000  \n",
       "max        1.000000  "
      ]
     },
     "execution_count": 40,
     "metadata": {},
     "output_type": "execute_result"
    }
   ],
   "source": [
    "standardised_df.describe()"
   ]
  },
  {
   "cell_type": "code",
   "execution_count": 41,
   "metadata": {},
   "outputs": [
    {
     "data": {
      "text/plain": [
       "active_days               0\n",
       "message_opened_count      0\n",
       "message_opened_TRUE       0\n",
       "message_received_count    0\n",
       "message_opened_rate       0\n",
       "message_daily_avg         0\n",
       "active_user               0\n",
       "dtype: int64"
      ]
     },
     "execution_count": 41,
     "metadata": {},
     "output_type": "execute_result"
    }
   ],
   "source": [
    "standardised_df.isnull().sum()"
   ]
  },
  {
   "cell_type": "markdown",
   "metadata": {},
   "source": [
    "## Choose cluster count"
   ]
  },
  {
   "cell_type": "markdown",
   "metadata": {},
   "source": [
    "The elbow method has been used to identify the ideal number of clusters."
   ]
  },
  {
   "cell_type": "code",
   "execution_count": 42,
   "metadata": {},
   "outputs": [],
   "source": [
    "sse = []\n",
    "\n",
    "# Will take some time\n",
    "for k in range(1, 15):\n",
    "    km = KMeans(n_clusters=k)\n",
    "    km.fit(standardised_df)\n",
    "    sse.append(km.inertia_)"
   ]
  },
  {
   "cell_type": "code",
   "execution_count": 43,
   "metadata": {},
   "outputs": [
    {
     "data": {
      "text/plain": [
       "[<matplotlib.lines.Line2D at 0x1ac061a5b70>]"
      ]
     },
     "execution_count": 43,
     "metadata": {},
     "output_type": "execute_result"
    },
    {
     "data": {
      "image/png": "[encoded data removed]",
      "text/plain": [
       "<Figure size 432x288 with 1 Axes>"
      ]
     },
     "metadata": {
      "needs_background": "light"
     },
     "output_type": "display_data"
    }
   ],
   "source": [
    "plt.xlabel('K')\n",
    "plt.ylabel('Sum of squared error')\n",
    "plt.plot(range(1, 15), sse)"
   ]
  },
  {
   "cell_type": "markdown",
   "metadata": {},
   "source": [
    "When applying the elbow method, the above graph shows that 3 clusters is optimal."
   ]
  },
  {
   "cell_type": "markdown",
   "metadata": {},
   "source": [
    "## Clustering"
   ]
  },
  {
   "cell_type": "code",
   "execution_count": 44,
   "metadata": {},
   "outputs": [
    {
     "data": {
      "text/html": [
       "<div>\n",
       "<style scoped>\n",
       "    .dataframe tbody tr th:only-of-type {\n",
       "        vertical-align: middle;\n",
       "    }\n",
       "\n",
       "    .dataframe tbody tr th {\n",
       "        vertical-align: top;\n",
       "    }\n",
       "\n",
       "    .dataframe thead th {\n",
       "        text-align: right;\n",
       "    }\n",
       "</style>\n",
       "<table border=\"1\" class=\"dataframe\">\n",
       "  <thead>\n",
       "    <tr style=\"text-align: right;\">\n",
       "      <th></th>\n",
       "      <th>user_id</th>\n",
       "      <th>amin</th>\n",
       "      <th>amax</th>\n",
       "      <th>active_days</th>\n",
       "      <th>message_opened_count</th>\n",
       "      <th>message_opened_TRUE</th>\n",
       "      <th>message_received_count</th>\n",
       "      <th>message_opened_rate</th>\n",
       "      <th>message_daily_avg</th>\n",
       "      <th>active_user</th>\n",
       "      <th>cluster</th>\n",
       "    </tr>\n",
       "  </thead>\n",
       "  <tbody>\n",
       "    <tr>\n",
       "      <th>0</th>\n",
       "      <td>00070</td>\n",
       "      <td>2021-01-25</td>\n",
       "      <td>2021-01-25</td>\n",
       "      <td>0.0</td>\n",
       "      <td>0.0</td>\n",
       "      <td>False</td>\n",
       "      <td>4.0</td>\n",
       "      <td>0.0</td>\n",
       "      <td>0.000000</td>\n",
       "      <td>False</td>\n",
       "      <td>0</td>\n",
       "    </tr>\n",
       "    <tr>\n",
       "      <th>1</th>\n",
       "      <td>00087</td>\n",
       "      <td>2021-01-08</td>\n",
       "      <td>2021-01-21</td>\n",
       "      <td>13.0</td>\n",
       "      <td>0.0</td>\n",
       "      <td>False</td>\n",
       "      <td>17.0</td>\n",
       "      <td>0.0</td>\n",
       "      <td>1.307692</td>\n",
       "      <td>False</td>\n",
       "      <td>0</td>\n",
       "    </tr>\n",
       "    <tr>\n",
       "      <th>2</th>\n",
       "      <td>000b3</td>\n",
       "      <td>2021-05-08</td>\n",
       "      <td>2021-05-08</td>\n",
       "      <td>0.0</td>\n",
       "      <td>0.0</td>\n",
       "      <td>False</td>\n",
       "      <td>1.0</td>\n",
       "      <td>0.0</td>\n",
       "      <td>0.000000</td>\n",
       "      <td>False</td>\n",
       "      <td>0</td>\n",
       "    </tr>\n",
       "    <tr>\n",
       "      <th>3</th>\n",
       "      <td>000e1</td>\n",
       "      <td>2021-03-17</td>\n",
       "      <td>2021-03-24</td>\n",
       "      <td>7.0</td>\n",
       "      <td>0.0</td>\n",
       "      <td>False</td>\n",
       "      <td>5.0</td>\n",
       "      <td>0.0</td>\n",
       "      <td>0.714286</td>\n",
       "      <td>False</td>\n",
       "      <td>0</td>\n",
       "    </tr>\n",
       "    <tr>\n",
       "      <th>4</th>\n",
       "      <td>00117</td>\n",
       "      <td>2021-03-01</td>\n",
       "      <td>2021-03-01</td>\n",
       "      <td>0.0</td>\n",
       "      <td>0.0</td>\n",
       "      <td>False</td>\n",
       "      <td>5.0</td>\n",
       "      <td>0.0</td>\n",
       "      <td>0.000000</td>\n",
       "      <td>False</td>\n",
       "      <td>0</td>\n",
       "    </tr>\n",
       "  </tbody>\n",
       "</table>\n",
       "</div>"
      ],
      "text/plain": [
       "  user_id       amin       amax  active_days  message_opened_count  \\\n",
       "0   00070 2021-01-25 2021-01-25          0.0                   0.0   \n",
       "1   00087 2021-01-08 2021-01-21         13.0                   0.0   \n",
       "2   000b3 2021-05-08 2021-05-08          0.0                   0.0   \n",
       "3   000e1 2021-03-17 2021-03-24          7.0                   0.0   \n",
       "4   00117 2021-03-01 2021-03-01          0.0                   0.0   \n",
       "\n",
       "   message_opened_TRUE  message_received_count  message_opened_rate  \\\n",
       "0                False                     4.0                  0.0   \n",
       "1                False                    17.0                  0.0   \n",
       "2                False                     1.0                  0.0   \n",
       "3                False                     5.0                  0.0   \n",
       "4                False                     5.0                  0.0   \n",
       "\n",
       "   message_daily_avg  active_user  cluster  \n",
       "0           0.000000        False        0  \n",
       "1           1.307692        False        0  \n",
       "2           0.000000        False        0  \n",
       "3           0.714286        False        0  \n",
       "4           0.000000        False        0  "
      ]
     },
     "execution_count": 44,
     "metadata": {},
     "output_type": "execute_result"
    }
   ],
   "source": [
    "km = KMeans(n_clusters=3)\n",
    "clusters = km.fit_predict(standardised_df)\n",
    "user_df['cluster'] = clusters\n",
    "user_df.head()"
   ]
  },
  {
   "cell_type": "code",
   "execution_count": 45,
   "metadata": {},
   "outputs": [
    {
     "data": {
      "text/plain": [
       "0    0.527440\n",
       "1    0.276974\n",
       "2    0.195585\n",
       "Name: cluster, dtype: float64"
      ]
     },
     "execution_count": 45,
     "metadata": {},
     "output_type": "execute_result"
    }
   ],
   "source": [
    "user_df['cluster'].value_counts(normalize=True)"
   ]
  },
  {
   "cell_type": "code",
   "execution_count": 46,
   "metadata": {},
   "outputs": [],
   "source": [
    "cluster_df = pd.get_dummies(user_df['cluster'])"
   ]
  },
  {
   "cell_type": "code",
   "execution_count": 47,
   "metadata": {},
   "outputs": [],
   "source": [
    "evaluators_df = user_df[['message_opened_TRUE', 'message_opened_rate']]"
   ]
  },
  {
   "cell_type": "code",
   "execution_count": 48,
   "metadata": {},
   "outputs": [],
   "source": [
    "cluster_df = cluster_df.merge(evaluators_df,\n",
    "                              how='outer',\n",
    "                              left_index=True,\n",
    "                              right_index=True)"
   ]
  },
  {
   "cell_type": "markdown",
   "metadata": {},
   "source": [
    "## Clustering evaluation"
   ]
  },
  {
   "cell_type": "code",
   "execution_count": 49,
   "metadata": {},
   "outputs": [
    {
     "data": {
      "text/html": [
       "<div>\n",
       "<style scoped>\n",
       "    .dataframe tbody tr th:only-of-type {\n",
       "        vertical-align: middle;\n",
       "    }\n",
       "\n",
       "    .dataframe tbody tr th {\n",
       "        vertical-align: top;\n",
       "    }\n",
       "\n",
       "    .dataframe thead th {\n",
       "        text-align: right;\n",
       "    }\n",
       "</style>\n",
       "<table border=\"1\" class=\"dataframe\">\n",
       "  <thead>\n",
       "    <tr style=\"text-align: right;\">\n",
       "      <th></th>\n",
       "      <th>0</th>\n",
       "      <th>1</th>\n",
       "      <th>2</th>\n",
       "      <th>message_opened_TRUE</th>\n",
       "      <th>message_opened_rate</th>\n",
       "    </tr>\n",
       "  </thead>\n",
       "  <tbody>\n",
       "    <tr>\n",
       "      <th>0</th>\n",
       "      <td>1.000000</td>\n",
       "      <td>-0.653885</td>\n",
       "      <td>-0.520938</td>\n",
       "      <td>-0.882909</td>\n",
       "      <td>-0.397999</td>\n",
       "    </tr>\n",
       "    <tr>\n",
       "      <th>1</th>\n",
       "      <td>-0.653885</td>\n",
       "      <td>1.000000</td>\n",
       "      <td>-0.305191</td>\n",
       "      <td>0.740602</td>\n",
       "      <td>0.464744</td>\n",
       "    </tr>\n",
       "    <tr>\n",
       "      <th>2</th>\n",
       "      <td>-0.520938</td>\n",
       "      <td>-0.305191</td>\n",
       "      <td>1.000000</td>\n",
       "      <td>0.275726</td>\n",
       "      <td>-0.023383</td>\n",
       "    </tr>\n",
       "    <tr>\n",
       "      <th>message_opened_TRUE</th>\n",
       "      <td>-0.882909</td>\n",
       "      <td>0.740602</td>\n",
       "      <td>0.275726</td>\n",
       "      <td>1.000000</td>\n",
       "      <td>0.450782</td>\n",
       "    </tr>\n",
       "    <tr>\n",
       "      <th>message_opened_rate</th>\n",
       "      <td>-0.397999</td>\n",
       "      <td>0.464744</td>\n",
       "      <td>-0.023383</td>\n",
       "      <td>0.450782</td>\n",
       "      <td>1.000000</td>\n",
       "    </tr>\n",
       "  </tbody>\n",
       "</table>\n",
       "</div>"
      ],
      "text/plain": [
       "                            0         1         2  message_opened_TRUE  \\\n",
       "0                    1.000000 -0.653885 -0.520938            -0.882909   \n",
       "1                   -0.653885  1.000000 -0.305191             0.740602   \n",
       "2                   -0.520938 -0.305191  1.000000             0.275726   \n",
       "message_opened_TRUE -0.882909  0.740602  0.275726             1.000000   \n",
       "message_opened_rate -0.397999  0.464744 -0.023383             0.450782   \n",
       "\n",
       "                     message_opened_rate  \n",
       "0                              -0.397999  \n",
       "1                               0.464744  \n",
       "2                              -0.023383  \n",
       "message_opened_TRUE             0.450782  \n",
       "message_opened_rate             1.000000  "
      ]
     },
     "execution_count": 49,
     "metadata": {},
     "output_type": "execute_result"
    }
   ],
   "source": [
    "cluster_df.corr()"
   ]
  },
  {
   "cell_type": "code",
   "execution_count": 50,
   "metadata": {},
   "outputs": [
    {
     "data": {
      "text/plain": [
       "<AxesSubplot:>"
      ]
     },
     "execution_count": 50,
     "metadata": {},
     "output_type": "execute_result"
    },
    {
     "data": {
      "image/png": "[encoded data removed]",
      "text/plain": [
       "<Figure size 432x288 with 2 Axes>"
      ]
     },
     "metadata": {
      "needs_background": "light"
     },
     "output_type": "display_data"
    }
   ],
   "source": [
    "sns.heatmap(cluster_df.corr(), annot=True)"
   ]
  },
  {
   "cell_type": "code",
   "execution_count": 51,
   "metadata": {},
   "outputs": [
    {
     "data": {
      "text/plain": [
       "0    0.527440\n",
       "1    0.276974\n",
       "2    0.195585\n",
       "Name: cluster, dtype: float64"
      ]
     },
     "execution_count": 51,
     "metadata": {},
     "output_type": "execute_result"
    }
   ],
   "source": [
    "user_df['cluster'].value_counts(normalize=True)"
   ]
  },
  {
   "cell_type": "markdown",
   "metadata": {},
   "source": [
    "Using the clustering exercise, the user data has been sliced into 3 groups, ranging from in between 20% and 53% of the users. Each cluster has significant different correlation with the target variable:\n",
    "- Cluster 1: likely to open messages once received\n",
    "- Cluster 0: unlikely to open messages once received\n",
    "- Cluster 2: somewhat more likely to open a message once received\n",
    "\n",
    "A next step is to make these clusters actionable, by adding user patterns per cluster. These can then be used by e.g. a marketing team as persona to target customer segments."
   ]
  },
  {
   "cell_type": "code",
   "execution_count": 55,
   "metadata": {},
   "outputs": [
    {
     "data": {
      "text/html": [
       "<div>\n",
       "<style scoped>\n",
       "    .dataframe tbody tr th:only-of-type {\n",
       "        vertical-align: middle;\n",
       "    }\n",
       "\n",
       "    .dataframe tbody tr th {\n",
       "        vertical-align: top;\n",
       "    }\n",
       "\n",
       "    .dataframe thead th {\n",
       "        text-align: right;\n",
       "    }\n",
       "</style>\n",
       "<table border=\"1\" class=\"dataframe\">\n",
       "  <thead>\n",
       "    <tr style=\"text-align: right;\">\n",
       "      <th></th>\n",
       "      <th>active_days</th>\n",
       "      <th>message_opened_count</th>\n",
       "      <th>message_received_count</th>\n",
       "      <th>message_opened_rate</th>\n",
       "      <th>message_daily_avg</th>\n",
       "      <th>cluster</th>\n",
       "    </tr>\n",
       "  </thead>\n",
       "  <tbody>\n",
       "    <tr>\n",
       "      <th>count</th>\n",
       "      <td>5057.000000</td>\n",
       "      <td>5057.000000</td>\n",
       "      <td>5057.000000</td>\n",
       "      <td>5057.000000</td>\n",
       "      <td>5057.000000</td>\n",
       "      <td>5057.0</td>\n",
       "    </tr>\n",
       "    <tr>\n",
       "      <th>mean</th>\n",
       "      <td>40.614198</td>\n",
       "      <td>3.858216</td>\n",
       "      <td>79.971327</td>\n",
       "      <td>0.167001</td>\n",
       "      <td>2.289930</td>\n",
       "      <td>1.0</td>\n",
       "    </tr>\n",
       "    <tr>\n",
       "      <th>std</th>\n",
       "      <td>42.694363</td>\n",
       "      <td>14.136564</td>\n",
       "      <td>139.407810</td>\n",
       "      <td>0.234526</td>\n",
       "      <td>2.587704</td>\n",
       "      <td>0.0</td>\n",
       "    </tr>\n",
       "    <tr>\n",
       "      <th>min</th>\n",
       "      <td>0.000000</td>\n",
       "      <td>1.000000</td>\n",
       "      <td>0.000000</td>\n",
       "      <td>0.000000</td>\n",
       "      <td>0.000000</td>\n",
       "      <td>1.0</td>\n",
       "    </tr>\n",
       "    <tr>\n",
       "      <th>25%</th>\n",
       "      <td>6.000000</td>\n",
       "      <td>1.000000</td>\n",
       "      <td>9.000000</td>\n",
       "      <td>0.025000</td>\n",
       "      <td>0.676471</td>\n",
       "      <td>1.0</td>\n",
       "    </tr>\n",
       "    <tr>\n",
       "      <th>50%</th>\n",
       "      <td>25.000000</td>\n",
       "      <td>2.000000</td>\n",
       "      <td>31.000000</td>\n",
       "      <td>0.074074</td>\n",
       "      <td>1.532468</td>\n",
       "      <td>1.0</td>\n",
       "    </tr>\n",
       "    <tr>\n",
       "      <th>75%</th>\n",
       "      <td>64.000000</td>\n",
       "      <td>3.000000</td>\n",
       "      <td>91.000000</td>\n",
       "      <td>0.200000</td>\n",
       "      <td>3.000000</td>\n",
       "      <td>1.0</td>\n",
       "    </tr>\n",
       "    <tr>\n",
       "      <th>max</th>\n",
       "      <td>182.000000</td>\n",
       "      <td>637.000000</td>\n",
       "      <td>2951.000000</td>\n",
       "      <td>2.000000</td>\n",
       "      <td>34.000000</td>\n",
       "      <td>1.0</td>\n",
       "    </tr>\n",
       "  </tbody>\n",
       "</table>\n",
       "</div>"
      ],
      "text/plain": [
       "       active_days  message_opened_count  message_received_count  \\\n",
       "count  5057.000000           5057.000000             5057.000000   \n",
       "mean     40.614198              3.858216               79.971327   \n",
       "std      42.694363             14.136564              139.407810   \n",
       "min       0.000000              1.000000                0.000000   \n",
       "25%       6.000000              1.000000                9.000000   \n",
       "50%      25.000000              2.000000               31.000000   \n",
       "75%      64.000000              3.000000               91.000000   \n",
       "max     182.000000            637.000000             2951.000000   \n",
       "\n",
       "       message_opened_rate  message_daily_avg  cluster  \n",
       "count          5057.000000        5057.000000   5057.0  \n",
       "mean              0.167001           2.289930      1.0  \n",
       "std               0.234526           2.587704      0.0  \n",
       "min               0.000000           0.000000      1.0  \n",
       "25%               0.025000           0.676471      1.0  \n",
       "50%               0.074074           1.532468      1.0  \n",
       "75%               0.200000           3.000000      1.0  \n",
       "max               2.000000          34.000000      1.0  "
      ]
     },
     "execution_count": 55,
     "metadata": {},
     "output_type": "execute_result"
    }
   ],
   "source": [
    "cluster0_df = user_df[user_df['cluster'] == 1]\n",
    "cluster0_df.describe()"
   ]
  },
  {
   "cell_type": "markdown",
   "metadata": {},
   "source": [
    "Persona 1 description:\n",
    "- Highest likelihood to open a message\n",
    "- Fairly long-term user (std 65, avg 95)\n",
    "- Receives ~3 message on average daily"
   ]
  },
  {
   "cell_type": "code",
   "execution_count": 53,
   "metadata": {},
   "outputs": [
    {
     "data": {
      "text/html": [
       "<div>\n",
       "<style scoped>\n",
       "    .dataframe tbody tr th:only-of-type {\n",
       "        vertical-align: middle;\n",
       "    }\n",
       "\n",
       "    .dataframe tbody tr th {\n",
       "        vertical-align: top;\n",
       "    }\n",
       "\n",
       "    .dataframe thead th {\n",
       "        text-align: right;\n",
       "    }\n",
       "</style>\n",
       "<table border=\"1\" class=\"dataframe\">\n",
       "  <thead>\n",
       "    <tr style=\"text-align: right;\">\n",
       "      <th></th>\n",
       "      <th>active_days</th>\n",
       "      <th>message_opened_count</th>\n",
       "      <th>message_received_count</th>\n",
       "      <th>message_opened_rate</th>\n",
       "      <th>message_daily_avg</th>\n",
       "      <th>cluster</th>\n",
       "    </tr>\n",
       "  </thead>\n",
       "  <tbody>\n",
       "    <tr>\n",
       "      <th>count</th>\n",
       "      <td>5057.000000</td>\n",
       "      <td>5057.000000</td>\n",
       "      <td>5057.000000</td>\n",
       "      <td>5057.000000</td>\n",
       "      <td>5057.000000</td>\n",
       "      <td>5057.0</td>\n",
       "    </tr>\n",
       "    <tr>\n",
       "      <th>mean</th>\n",
       "      <td>40.614198</td>\n",
       "      <td>3.858216</td>\n",
       "      <td>79.971327</td>\n",
       "      <td>0.167001</td>\n",
       "      <td>2.289930</td>\n",
       "      <td>1.0</td>\n",
       "    </tr>\n",
       "    <tr>\n",
       "      <th>std</th>\n",
       "      <td>42.694363</td>\n",
       "      <td>14.136564</td>\n",
       "      <td>139.407810</td>\n",
       "      <td>0.234526</td>\n",
       "      <td>2.587704</td>\n",
       "      <td>0.0</td>\n",
       "    </tr>\n",
       "    <tr>\n",
       "      <th>min</th>\n",
       "      <td>0.000000</td>\n",
       "      <td>1.000000</td>\n",
       "      <td>0.000000</td>\n",
       "      <td>0.000000</td>\n",
       "      <td>0.000000</td>\n",
       "      <td>1.0</td>\n",
       "    </tr>\n",
       "    <tr>\n",
       "      <th>25%</th>\n",
       "      <td>6.000000</td>\n",
       "      <td>1.000000</td>\n",
       "      <td>9.000000</td>\n",
       "      <td>0.025000</td>\n",
       "      <td>0.676471</td>\n",
       "      <td>1.0</td>\n",
       "    </tr>\n",
       "    <tr>\n",
       "      <th>50%</th>\n",
       "      <td>25.000000</td>\n",
       "      <td>2.000000</td>\n",
       "      <td>31.000000</td>\n",
       "      <td>0.074074</td>\n",
       "      <td>1.532468</td>\n",
       "      <td>1.0</td>\n",
       "    </tr>\n",
       "    <tr>\n",
       "      <th>75%</th>\n",
       "      <td>64.000000</td>\n",
       "      <td>3.000000</td>\n",
       "      <td>91.000000</td>\n",
       "      <td>0.200000</td>\n",
       "      <td>3.000000</td>\n",
       "      <td>1.0</td>\n",
       "    </tr>\n",
       "    <tr>\n",
       "      <th>max</th>\n",
       "      <td>182.000000</td>\n",
       "      <td>637.000000</td>\n",
       "      <td>2951.000000</td>\n",
       "      <td>2.000000</td>\n",
       "      <td>34.000000</td>\n",
       "      <td>1.0</td>\n",
       "    </tr>\n",
       "  </tbody>\n",
       "</table>\n",
       "</div>"
      ],
      "text/plain": [
       "       active_days  message_opened_count  message_received_count  \\\n",
       "count  5057.000000           5057.000000             5057.000000   \n",
       "mean     40.614198              3.858216               79.971327   \n",
       "std      42.694363             14.136564              139.407810   \n",
       "min       0.000000              1.000000                0.000000   \n",
       "25%       6.000000              1.000000                9.000000   \n",
       "50%      25.000000              2.000000               31.000000   \n",
       "75%      64.000000              3.000000               91.000000   \n",
       "max     182.000000            637.000000             2951.000000   \n",
       "\n",
       "       message_opened_rate  message_daily_avg  cluster  \n",
       "count          5057.000000        5057.000000   5057.0  \n",
       "mean              0.167001           2.289930      1.0  \n",
       "std               0.234526           2.587704      0.0  \n",
       "min               0.000000           0.000000      1.0  \n",
       "25%               0.025000           0.676471      1.0  \n",
       "50%               0.074074           1.532468      1.0  \n",
       "75%               0.200000           3.000000      1.0  \n",
       "max               2.000000          34.000000      1.0  "
      ]
     },
     "execution_count": 53,
     "metadata": {},
     "output_type": "execute_result"
    }
   ],
   "source": [
    "cluster1_df = user_df[user_df['cluster'] == 0]\n",
    "cluster1_df.describe()"
   ]
  },
  {
   "cell_type": "markdown",
   "metadata": {},
   "source": [
    "Persona 0 description:\n",
    "- Unlikely to open a message\n",
    "- Short-term user (std 26, avg 14 days)"
   ]
  },
  {
   "cell_type": "code",
   "execution_count": 54,
   "metadata": {},
   "outputs": [
    {
     "data": {
      "text/html": [
       "<div>\n",
       "<style scoped>\n",
       "    .dataframe tbody tr th:only-of-type {\n",
       "        vertical-align: middle;\n",
       "    }\n",
       "\n",
       "    .dataframe tbody tr th {\n",
       "        vertical-align: top;\n",
       "    }\n",
       "\n",
       "    .dataframe thead th {\n",
       "        text-align: right;\n",
       "    }\n",
       "</style>\n",
       "<table border=\"1\" class=\"dataframe\">\n",
       "  <thead>\n",
       "    <tr style=\"text-align: right;\">\n",
       "      <th></th>\n",
       "      <th>active_days</th>\n",
       "      <th>message_opened_count</th>\n",
       "      <th>message_received_count</th>\n",
       "      <th>message_opened_rate</th>\n",
       "      <th>message_daily_avg</th>\n",
       "      <th>cluster</th>\n",
       "    </tr>\n",
       "  </thead>\n",
       "  <tbody>\n",
       "    <tr>\n",
       "      <th>count</th>\n",
       "      <td>3571.000000</td>\n",
       "      <td>3571.00000</td>\n",
       "      <td>3571.000000</td>\n",
       "      <td>3571.000000</td>\n",
       "      <td>3571.000000</td>\n",
       "      <td>3571.0</td>\n",
       "    </tr>\n",
       "    <tr>\n",
       "      <th>mean</th>\n",
       "      <td>95.046766</td>\n",
       "      <td>5.75133</td>\n",
       "      <td>206.443293</td>\n",
       "      <td>0.048771</td>\n",
       "      <td>2.925197</td>\n",
       "      <td>2.0</td>\n",
       "    </tr>\n",
       "    <tr>\n",
       "      <th>std</th>\n",
       "      <td>65.562084</td>\n",
       "      <td>13.25166</td>\n",
       "      <td>265.196298</td>\n",
       "      <td>0.091198</td>\n",
       "      <td>4.621225</td>\n",
       "      <td>0.0</td>\n",
       "    </tr>\n",
       "    <tr>\n",
       "      <th>min</th>\n",
       "      <td>0.000000</td>\n",
       "      <td>0.00000</td>\n",
       "      <td>1.000000</td>\n",
       "      <td>0.000000</td>\n",
       "      <td>0.000000</td>\n",
       "      <td>2.0</td>\n",
       "    </tr>\n",
       "    <tr>\n",
       "      <th>25%</th>\n",
       "      <td>22.000000</td>\n",
       "      <td>0.00000</td>\n",
       "      <td>41.000000</td>\n",
       "      <td>0.000000</td>\n",
       "      <td>0.857143</td>\n",
       "      <td>2.0</td>\n",
       "    </tr>\n",
       "    <tr>\n",
       "      <th>50%</th>\n",
       "      <td>100.000000</td>\n",
       "      <td>2.00000</td>\n",
       "      <td>111.000000</td>\n",
       "      <td>0.013100</td>\n",
       "      <td>1.828571</td>\n",
       "      <td>2.0</td>\n",
       "    </tr>\n",
       "    <tr>\n",
       "      <th>75%</th>\n",
       "      <td>158.000000</td>\n",
       "      <td>6.00000</td>\n",
       "      <td>267.000000</td>\n",
       "      <td>0.050000</td>\n",
       "      <td>3.697826</td>\n",
       "      <td>2.0</td>\n",
       "    </tr>\n",
       "    <tr>\n",
       "      <th>max</th>\n",
       "      <td>188.000000</td>\n",
       "      <td>215.00000</td>\n",
       "      <td>3565.000000</td>\n",
       "      <td>1.000000</td>\n",
       "      <td>166.000000</td>\n",
       "      <td>2.0</td>\n",
       "    </tr>\n",
       "  </tbody>\n",
       "</table>\n",
       "</div>"
      ],
      "text/plain": [
       "       active_days  message_opened_count  message_received_count  \\\n",
       "count  3571.000000            3571.00000             3571.000000   \n",
       "mean     95.046766               5.75133              206.443293   \n",
       "std      65.562084              13.25166              265.196298   \n",
       "min       0.000000               0.00000                1.000000   \n",
       "25%      22.000000               0.00000               41.000000   \n",
       "50%     100.000000               2.00000              111.000000   \n",
       "75%     158.000000               6.00000              267.000000   \n",
       "max     188.000000             215.00000             3565.000000   \n",
       "\n",
       "       message_opened_rate  message_daily_avg  cluster  \n",
       "count          3571.000000        3571.000000   3571.0  \n",
       "mean              0.048771           2.925197      2.0  \n",
       "std               0.091198           4.621225      0.0  \n",
       "min               0.000000           0.000000      2.0  \n",
       "25%               0.000000           0.857143      2.0  \n",
       "50%               0.013100           1.828571      2.0  \n",
       "75%               0.050000           3.697826      2.0  \n",
       "max               1.000000         166.000000      2.0  "
      ]
     },
     "execution_count": 54,
     "metadata": {},
     "output_type": "execute_result"
    }
   ],
   "source": [
    "cluster2_df = user_df[user_df['cluster'] == 2]\n",
    "cluster2_df.describe()"
   ]
  },
  {
   "cell_type": "markdown",
   "metadata": {},
   "source": [
    "Persona 2 description:\n",
    "- Unlikely to open a message\n",
    "- Medium-term user (std 26, avg 40)"
   ]
  },
  {
   "cell_type": "markdown",
   "metadata": {},
   "source": [
    "**Note:** the clustering model re-assigns clustering numbers each time the workbook runs, making the descriptions above inaccurate. It would be useful to fix this somehow or adjust the text according to the assigned cluster number."
   ]
  }
 ],
 "metadata": {
  "kernelspec": {
   "display_name": "Python 3",
   "language": "python",
   "name": "python3"
  },
  "language_info": {
   "codemirror_mode": {
    "name": "ipython",
    "version": 3
   },
   "file_extension": ".py",
   "mimetype": "text/x-python",
   "name": "python",
   "nbconvert_exporter": "python",
   "pygments_lexer": "ipython3",
   "version": "3.6.12"
  }
 },
 "nbformat": 4,
 "nbformat_minor": 4
}
