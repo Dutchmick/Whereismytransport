{
 "cells": [
  {
   "cell_type": "markdown",
   "metadata": {},
   "source": [
    "# Notebook objective"
   ]
  },
  {
   "cell_type": "markdown",
   "metadata": {},
   "source": [
    "This notebook's objective is to explore the dataset provided by the Whereismytransport team, in order to understand how to use this to complete the exercise."
   ]
  },
  {
   "cell_type": "markdown",
   "metadata": {},
   "source": [
    "Assessment source: https://drive.google.com/drive/folders/1akT7jbXYy2-zLHEtnK3q6vqcQ-JdRO9H"
   ]
  },
  {
   "cell_type": "markdown",
   "metadata": {},
   "source": [
    "# Preparation"
   ]
  },
  {
   "cell_type": "markdown",
   "metadata": {},
   "source": [
    "## Import required libraries"
   ]
  },
  {
   "cell_type": "code",
   "execution_count": 1,
   "metadata": {},
   "outputs": [],
   "source": [
    "import numpy as np\n",
    "import pandas as pd\n",
    "import os\n",
    "import seaborn as sns"
   ]
  },
  {
   "cell_type": "markdown",
   "metadata": {},
   "source": [
    "## Folder structure"
   ]
  },
  {
   "cell_type": "code",
   "execution_count": 2,
   "metadata": {},
   "outputs": [],
   "source": [
    "# Make root folder the current working directory\n",
    "os.chdir('..')"
   ]
  },
  {
   "cell_type": "code",
   "execution_count": 3,
   "metadata": {},
   "outputs": [],
   "source": [
    "input_folder = './data/raw/'"
   ]
  },
  {
   "cell_type": "code",
   "execution_count": 4,
   "metadata": {},
   "outputs": [],
   "source": [
    "output_folder = './reports/figures/'"
   ]
  },
  {
   "cell_type": "markdown",
   "metadata": {},
   "source": [
    "## Data import"
   ]
  },
  {
   "cell_type": "code",
   "execution_count": 5,
   "metadata": {},
   "outputs": [
    {
     "data": {
      "text/html": [
       "<div>\n",
       "<style scoped>\n",
       "    .dataframe tbody tr th:only-of-type {\n",
       "        vertical-align: middle;\n",
       "    }\n",
       "\n",
       "    .dataframe tbody tr th {\n",
       "        vertical-align: top;\n",
       "    }\n",
       "\n",
       "    .dataframe thead th {\n",
       "        text-align: right;\n",
       "    }\n",
       "</style>\n",
       "<table border=\"1\" class=\"dataframe\">\n",
       "  <thead>\n",
       "    <tr style=\"text-align: right;\">\n",
       "      <th></th>\n",
       "      <th>Unnamed: 0</th>\n",
       "      <th>document_id</th>\n",
       "      <th>published_at</th>\n",
       "      <th>description</th>\n",
       "    </tr>\n",
       "  </thead>\n",
       "  <tbody>\n",
       "    <tr>\n",
       "      <th>0</th>\n",
       "      <td>0</td>\n",
       "      <td>-MUH7_dRaJMkhnxY9bHs</td>\n",
       "      <td>2021-02-24 03:58:39+00:00</td>\n",
       "      <td>🔥 Considera retrasos por servicios de emergenc...</td>\n",
       "    </tr>\n",
       "    <tr>\n",
       "      <th>1</th>\n",
       "      <td>1</td>\n",
       "      <td>-MUH7_dRaJMkhnxY9bHs</td>\n",
       "      <td>2021-02-24 03:58:39+00:00</td>\n",
       "      <td>🔥 Considera retrasos por servicios de emergenc...</td>\n",
       "    </tr>\n",
       "  </tbody>\n",
       "</table>\n",
       "</div>"
      ],
      "text/plain": [
       "   Unnamed: 0           document_id               published_at  \\\n",
       "0           0  -MUH7_dRaJMkhnxY9bHs  2021-02-24 03:58:39+00:00   \n",
       "1           1  -MUH7_dRaJMkhnxY9bHs  2021-02-24 03:58:39+00:00   \n",
       "\n",
       "                                         description  \n",
       "0  🔥 Considera retrasos por servicios de emergenc...  \n",
       "1  🔥 Considera retrasos por servicios de emergenc...  "
      ]
     },
     "execution_count": 5,
     "metadata": {},
     "output_type": "execute_result"
    }
   ],
   "source": [
    "alerts_df = pd.read_csv(input_folder + 'alerts.csv')\n",
    "alerts_df.head(2)"
   ]
  },
  {
   "cell_type": "code",
   "execution_count": 6,
   "metadata": {},
   "outputs": [
    {
     "data": {
      "text/html": [
       "<div>\n",
       "<style scoped>\n",
       "    .dataframe tbody tr th:only-of-type {\n",
       "        vertical-align: middle;\n",
       "    }\n",
       "\n",
       "    .dataframe tbody tr th {\n",
       "        vertical-align: top;\n",
       "    }\n",
       "\n",
       "    .dataframe thead th {\n",
       "        text-align: right;\n",
       "    }\n",
       "</style>\n",
       "<table border=\"1\" class=\"dataframe\">\n",
       "  <thead>\n",
       "    <tr style=\"text-align: right;\">\n",
       "      <th></th>\n",
       "      <th>Unnamed: 0</th>\n",
       "      <th>event_date</th>\n",
       "      <th>event_timestamp</th>\n",
       "      <th>event_name</th>\n",
       "      <th>user_id</th>\n",
       "      <th>join_key_value</th>\n",
       "    </tr>\n",
       "  </thead>\n",
       "  <tbody>\n",
       "    <tr>\n",
       "      <th>0</th>\n",
       "      <td>0</td>\n",
       "      <td>2021-05-29</td>\n",
       "      <td>1622251203899000</td>\n",
       "      <td>notification_receive</td>\n",
       "      <td>283a1</td>\n",
       "      <td>-Maph6wn8GA3SjPIc9HA</td>\n",
       "    </tr>\n",
       "    <tr>\n",
       "      <th>1</th>\n",
       "      <td>1</td>\n",
       "      <td>2021-05-29</td>\n",
       "      <td>1622257988561000</td>\n",
       "      <td>notification_receive</td>\n",
       "      <td>283a1</td>\n",
       "      <td>-Maq63vqDUxQRawQ_3Au</td>\n",
       "    </tr>\n",
       "  </tbody>\n",
       "</table>\n",
       "</div>"
      ],
      "text/plain": [
       "   Unnamed: 0 event_date   event_timestamp            event_name user_id  \\\n",
       "0           0 2021-05-29  1622251203899000  notification_receive   283a1   \n",
       "1           1 2021-05-29  1622257988561000  notification_receive   283a1   \n",
       "\n",
       "         join_key_value  \n",
       "0  -Maph6wn8GA3SjPIc9HA  \n",
       "1  -Maq63vqDUxQRawQ_3Au  "
      ]
     },
     "execution_count": 6,
     "metadata": {},
     "output_type": "execute_result"
    }
   ],
   "source": [
    "dateparse = lambda x: datetime.strptime(x, '%Y%m%d')\n",
    "\n",
    "notifications_df = pd.read_csv(input_folder + 'notfications.csv', parse_dates=['event_date'])\n",
    "notifications_df.head(2)"
   ]
  },
  {
   "cell_type": "markdown",
   "metadata": {},
   "source": [
    "# Exploratory analysis"
   ]
  },
  {
   "cell_type": "markdown",
   "metadata": {},
   "source": [
    "## alerts"
   ]
  },
  {
   "cell_type": "code",
   "execution_count": 7,
   "metadata": {},
   "outputs": [
    {
     "data": {
      "text/plain": [
       "published_at    0.465219\n",
       "dtype: float64"
      ]
     },
     "execution_count": 7,
     "metadata": {},
     "output_type": "execute_result"
    }
   ],
   "source": [
    "# Calculate the missing data % in training data\n",
    "missing_data = alerts_df.isna().sum() / alerts_df.isna().count() * 100\n",
    "missing_data[missing_data > 0].sort_values(ascending=False)"
   ]
  },
  {
   "cell_type": "code",
   "execution_count": 8,
   "metadata": {},
   "outputs": [
    {
     "data": {
      "text/html": [
       "<div>\n",
       "<style scoped>\n",
       "    .dataframe tbody tr th:only-of-type {\n",
       "        vertical-align: middle;\n",
       "    }\n",
       "\n",
       "    .dataframe tbody tr th {\n",
       "        vertical-align: top;\n",
       "    }\n",
       "\n",
       "    .dataframe thead th {\n",
       "        text-align: right;\n",
       "    }\n",
       "</style>\n",
       "<table border=\"1\" class=\"dataframe\">\n",
       "  <thead>\n",
       "    <tr style=\"text-align: right;\">\n",
       "      <th></th>\n",
       "      <th>Unnamed: 0</th>\n",
       "      <th>document_id</th>\n",
       "      <th>published_at</th>\n",
       "      <th>description</th>\n",
       "    </tr>\n",
       "  </thead>\n",
       "  <tbody>\n",
       "    <tr>\n",
       "      <th>420</th>\n",
       "      <td>420</td>\n",
       "      <td>-MTHuWtahAzCEWyyI1Cz</td>\n",
       "      <td>NaN</td>\n",
       "      <td>¿Traes tus flotis? Hay retrasos por inundació...</td>\n",
       "    </tr>\n",
       "    <tr>\n",
       "      <th>699</th>\n",
       "      <td>699</td>\n",
       "      <td>-MUZXpCUVuYnegdiLDm4</td>\n",
       "      <td>NaN</td>\n",
       "      <td>✋ ¡Ahí te van! Inicia marcha sobre Calz. San A...</td>\n",
       "    </tr>\n",
       "    <tr>\n",
       "      <th>838</th>\n",
       "      <td>838</td>\n",
       "      <td>-MTxAbQHE7RyjCmVaWYO</td>\n",
       "      <td>NaN</td>\n",
       "      <td>⏳ ¡Tómalo en cuenta! Retrasos por servicios de...</td>\n",
       "    </tr>\n",
       "    <tr>\n",
       "      <th>839</th>\n",
       "      <td>839</td>\n",
       "      <td>-MTxAbQHE7RyjCmVaWYO</td>\n",
       "      <td>NaN</td>\n",
       "      <td>⏳ ¡Tómalo en cuenta! Retrasos por servicios de...</td>\n",
       "    </tr>\n",
       "    <tr>\n",
       "      <th>1072</th>\n",
       "      <td>1072</td>\n",
       "      <td>-MSjp1mUtZ3Ndpm4sRTe</td>\n",
       "      <td>NaN</td>\n",
       "      <td>⌚ Échate una leída en el blog de Rumbo porque ...</td>\n",
       "    </tr>\n",
       "    <tr>\n",
       "      <th>...</th>\n",
       "      <td>...</td>\n",
       "      <td>...</td>\n",
       "      <td>...</td>\n",
       "      <td>...</td>\n",
       "    </tr>\n",
       "    <tr>\n",
       "      <th>12463</th>\n",
       "      <td>12463</td>\n",
       "      <td>-MRWq-R8SVXcuedAbmfL</td>\n",
       "      <td>NaN</td>\n",
       "      <td>¡Ojo! Retrasos por percance en Anillo Periféri...</td>\n",
       "    </tr>\n",
       "    <tr>\n",
       "      <th>12518</th>\n",
       "      <td>12518</td>\n",
       "      <td>-M_Xq4NAj7NKEIVWY5tk</td>\n",
       "      <td>NaN</td>\n",
       "      <td>⏳ ¡Tómalo en cuenta! Retrasos por accidente ve...</td>\n",
       "    </tr>\n",
       "    <tr>\n",
       "      <th>12857</th>\n",
       "      <td>12857</td>\n",
       "      <td>-MZmuavfdU8ig8nqaT7J</td>\n",
       "      <td>NaN</td>\n",
       "      <td>⏳ ¡Híjole! Hay retrasos por accidente vehicula...</td>\n",
       "    </tr>\n",
       "    <tr>\n",
       "      <th>13379</th>\n",
       "      <td>13379</td>\n",
       "      <td>-MQm7dFboX-pa_uUZFgX</td>\n",
       "      <td>NaN</td>\n",
       "      <td>⏳ ¡No de nuevo! Hay retrasos por accidente veh...</td>\n",
       "    </tr>\n",
       "    <tr>\n",
       "      <th>13380</th>\n",
       "      <td>13380</td>\n",
       "      <td>-MQm7dFboX-pa_uUZFgX</td>\n",
       "      <td>NaN</td>\n",
       "      <td>⏳ ¡No de nuevo! Hay retrasos por accidente veh...</td>\n",
       "    </tr>\n",
       "  </tbody>\n",
       "</table>\n",
       "<p>63 rows × 4 columns</p>\n",
       "</div>"
      ],
      "text/plain": [
       "       Unnamed: 0           document_id published_at  \\\n",
       "420           420  -MTHuWtahAzCEWyyI1Cz          NaN   \n",
       "699           699  -MUZXpCUVuYnegdiLDm4          NaN   \n",
       "838           838  -MTxAbQHE7RyjCmVaWYO          NaN   \n",
       "839           839  -MTxAbQHE7RyjCmVaWYO          NaN   \n",
       "1072         1072  -MSjp1mUtZ3Ndpm4sRTe          NaN   \n",
       "...           ...                   ...          ...   \n",
       "12463       12463  -MRWq-R8SVXcuedAbmfL          NaN   \n",
       "12518       12518  -M_Xq4NAj7NKEIVWY5tk          NaN   \n",
       "12857       12857  -MZmuavfdU8ig8nqaT7J          NaN   \n",
       "13379       13379  -MQm7dFboX-pa_uUZFgX          NaN   \n",
       "13380       13380  -MQm7dFboX-pa_uUZFgX          NaN   \n",
       "\n",
       "                                             description  \n",
       "420     ¿Traes tus flotis? Hay retrasos por inundació...  \n",
       "699    ✋ ¡Ahí te van! Inicia marcha sobre Calz. San A...  \n",
       "838    ⏳ ¡Tómalo en cuenta! Retrasos por servicios de...  \n",
       "839    ⏳ ¡Tómalo en cuenta! Retrasos por servicios de...  \n",
       "1072   ⌚ Échate una leída en el blog de Rumbo porque ...  \n",
       "...                                                  ...  \n",
       "12463  ¡Ojo! Retrasos por percance en Anillo Periféri...  \n",
       "12518  ⏳ ¡Tómalo en cuenta! Retrasos por accidente ve...  \n",
       "12857  ⏳ ¡Híjole! Hay retrasos por accidente vehicula...  \n",
       "13379  ⏳ ¡No de nuevo! Hay retrasos por accidente veh...  \n",
       "13380  ⏳ ¡No de nuevo! Hay retrasos por accidente veh...  \n",
       "\n",
       "[63 rows x 4 columns]"
      ]
     },
     "execution_count": 8,
     "metadata": {},
     "output_type": "execute_result"
    }
   ],
   "source": [
    "alerts_df[alerts_df['published_at'].isnull()]"
   ]
  },
  {
   "cell_type": "markdown",
   "metadata": {},
   "source": [
    "The data shows that the column 'published_at' is missing 0.47% of values. Considering the small sample without these values, I will likely drop them from this analysis. \n",
    "\n",
    "If the objective of this exercise was to create a system that can be applied to customers, I would've recommended an internal investigation to find out why those values are missing."
   ]
  },
  {
   "cell_type": "code",
   "execution_count": 9,
   "metadata": {},
   "outputs": [
    {
     "data": {
      "text/plain": [
       "<AxesSubplot:>"
      ]
     },
     "execution_count": 9,
     "metadata": {},
     "output_type": "execute_result"
    },
    {
     "data": {
      "image/png": "[encoded data removed]",
      "text/plain": [
       "<Figure size 432x288 with 1 Axes>"
      ]
     },
     "metadata": {
      "needs_background": "light"
     },
     "output_type": "display_data"
    }
   ],
   "source": [
    "# Visualise missing data\n",
    "sns.heatmap(alerts_df.isnull(), yticklabels=False, cbar=False, cmap='viridis')"
   ]
  },
  {
   "cell_type": "code",
   "execution_count": 10,
   "metadata": {},
   "outputs": [
    {
     "data": {
      "text/plain": [
       "Unnamed: 0       int64\n",
       "document_id     object\n",
       "published_at    object\n",
       "description     object\n",
       "dtype: object"
      ]
     },
     "execution_count": 10,
     "metadata": {},
     "output_type": "execute_result"
    }
   ],
   "source": [
    "alerts_df.dtypes"
   ]
  },
  {
   "cell_type": "code",
   "execution_count": 11,
   "metadata": {},
   "outputs": [
    {
     "data": {
      "text/plain": [
       "8564"
      ]
     },
     "execution_count": 11,
     "metadata": {},
     "output_type": "execute_result"
    }
   ],
   "source": [
    "alerts_df['document_id'].nunique()"
   ]
  },
  {
   "cell_type": "markdown",
   "metadata": {},
   "source": [
    "Based on how the data looks, document_id is the unique message identifier. Based on this assumption, there are 8564 unique messages."
   ]
  },
  {
   "cell_type": "code",
   "execution_count": 12,
   "metadata": {},
   "outputs": [
    {
     "data": {
      "text/plain": [
       "8518"
      ]
     },
     "execution_count": 12,
     "metadata": {},
     "output_type": "execute_result"
    }
   ],
   "source": [
    "alerts_df['description'].nunique()"
   ]
  },
  {
   "cell_type": "markdown",
   "metadata": {},
   "source": [
    "Interestingly, when looking at the messages, there are only 8515 unique messages. This could mean that there are 46 message ids with a non-unique message. "
   ]
  },
  {
   "cell_type": "code",
   "execution_count": 13,
   "metadata": {},
   "outputs": [
    {
     "data": {
      "text/html": [
       "<div>\n",
       "<style scoped>\n",
       "    .dataframe tbody tr th:only-of-type {\n",
       "        vertical-align: middle;\n",
       "    }\n",
       "\n",
       "    .dataframe tbody tr th {\n",
       "        vertical-align: top;\n",
       "    }\n",
       "\n",
       "    .dataframe thead th {\n",
       "        text-align: right;\n",
       "    }\n",
       "</style>\n",
       "<table border=\"1\" class=\"dataframe\">\n",
       "  <thead>\n",
       "    <tr style=\"text-align: right;\">\n",
       "      <th></th>\n",
       "      <th>document_id</th>\n",
       "      <th>description</th>\n",
       "    </tr>\n",
       "  </thead>\n",
       "  <tbody>\n",
       "    <tr>\n",
       "      <th>4973</th>\n",
       "      <td>-MZD8SnnjmMRmchr-w3t</td>\n",
       "      <td>✋ ¡Así como lo lees! Continúa el cierre de cir...</td>\n",
       "    </tr>\n",
       "    <tr>\n",
       "      <th>4974</th>\n",
       "      <td>-MZD8SnnjmMRmchr-w3t</td>\n",
       "      <td>✋ ¡Así como lo lees! Continúa el cierre de cir...</td>\n",
       "    </tr>\n",
       "    <tr>\n",
       "      <th>5642</th>\n",
       "      <td>-MZwcDQXFr02iP0BsTrR</td>\n",
       "      <td>✋ ¡Así como lo lees! Continúa el cierre de cir...</td>\n",
       "    </tr>\n",
       "    <tr>\n",
       "      <th>5692</th>\n",
       "      <td>-MYimvCb8mgUawkL6DPP</td>\n",
       "      <td>✋ ¡Así como lo lees! Continúa el cierre de cir...</td>\n",
       "    </tr>\n",
       "    <tr>\n",
       "      <th>5720</th>\n",
       "      <td>-M_Q5tEjGtFwVBNcqzHX</td>\n",
       "      <td>✋ ¡Así como lo lees! Continúa el cierre de cir...</td>\n",
       "    </tr>\n",
       "  </tbody>\n",
       "</table>\n",
       "</div>"
      ],
      "text/plain": [
       "               document_id                                        description\n",
       "4973  -MZD8SnnjmMRmchr-w3t  ✋ ¡Así como lo lees! Continúa el cierre de cir...\n",
       "4974  -MZD8SnnjmMRmchr-w3t  ✋ ¡Así como lo lees! Continúa el cierre de cir...\n",
       "5642  -MZwcDQXFr02iP0BsTrR  ✋ ¡Así como lo lees! Continúa el cierre de cir...\n",
       "5692  -MYimvCb8mgUawkL6DPP  ✋ ¡Así como lo lees! Continúa el cierre de cir...\n",
       "5720  -M_Q5tEjGtFwVBNcqzHX  ✋ ¡Así como lo lees! Continúa el cierre de cir..."
      ]
     },
     "execution_count": 13,
     "metadata": {},
     "output_type": "execute_result"
    }
   ],
   "source": [
    "dups_df = alerts_df[['document_id', 'description']].copy()\n",
    "# concatenate messages and id\n",
    "dups_df['concat'] = dups_df['document_id'] + dups_df['description']\n",
    "# keep unique combinations\n",
    "dups_df = dups_df[dups_df.duplicated(subset='concat', keep='first')]\n",
    "# Select most occuring message as example\n",
    "most_occuring = dups_df['description'].value_counts().index.tolist()[0]\n",
    "dups_df[dups_df['description'] == most_occuring][['document_id', 'description']]"
   ]
  },
  {
   "cell_type": "markdown",
   "metadata": {},
   "source": [
    "There are quite a few duplicate messages with different document_id. Depending on the required outcome, it may be useful to recode the document id into unique values."
   ]
  },
  {
   "cell_type": "code",
   "execution_count": 14,
   "metadata": {},
   "outputs": [
    {
     "data": {
      "text/plain": [
       "count                         13479\n",
       "unique                         8522\n",
       "top       2021-05-08 16:26:10+00:00\n",
       "freq                              5\n",
       "Name: published_at, dtype: object"
      ]
     },
     "execution_count": 14,
     "metadata": {},
     "output_type": "execute_result"
    }
   ],
   "source": [
    "alerts_df['published_at'].describe()"
   ]
  },
  {
   "cell_type": "markdown",
   "metadata": {},
   "source": [
    "The datetime field is not in a format that is easy for Python to recognise and currently considered a string type. For Python to recognise the column as a date field, a data transformation needs to happen."
   ]
  },
  {
   "cell_type": "code",
   "execution_count": 15,
   "metadata": {},
   "outputs": [
    {
     "data": {
      "text/plain": [
       "0       2021-02-24 03:58:39\n",
       "1       2021-02-24 03:58:39\n",
       "2       2021-03-31 22:54:19\n",
       "3       2021-03-31 22:54:19\n",
       "4       2021-03-31 22:54:19\n",
       "                ...        \n",
       "13537   2021-04-30 21:32:24\n",
       "13538   2021-05-04 00:52:21\n",
       "13539   2021-03-26 14:44:15\n",
       "13540   2021-01-27 17:51:51\n",
       "13541   2021-06-25 11:25:49\n",
       "Name: published_at, Length: 13542, dtype: datetime64[ns]"
      ]
     },
     "execution_count": 15,
     "metadata": {},
     "output_type": "execute_result"
    }
   ],
   "source": [
    "# Make date field a pandas date type\n",
    "alerts_df['published_at'] = alerts_df['published_at'].str[:19]\n",
    "alerts_df['published_at'] = pd.to_datetime(alerts_df['published_at'])\n",
    "alerts_df['published_at']"
   ]
  },
  {
   "cell_type": "code",
   "execution_count": 16,
   "metadata": {},
   "outputs": [
    {
     "name": "stderr",
     "output_type": "stream",
     "text": [
      "C:\\Users\\michiel.HEPSTAR\\AppData\\Local\\Continuum\\anaconda3a\\lib\\site-packages\\ipykernel_launcher.py:2: FutureWarning: Treating datetime data as categorical rather than numeric in `.describe` is deprecated and will be removed in a future version of pandas. Specify `datetime_is_numeric=True` to silence this warning and adopt the future behavior now.\n",
      "  \n"
     ]
    },
    {
     "data": {
      "text/plain": [
       "count                   13479\n",
       "unique                   8522\n",
       "top       2021-05-08 16:26:10\n",
       "freq                        5\n",
       "first     2021-01-01 00:25:10\n",
       "last      2021-07-07 03:58:40\n",
       "Name: published_at, dtype: object"
      ]
     },
     "execution_count": 16,
     "metadata": {},
     "output_type": "execute_result"
    }
   ],
   "source": [
    "# Describe the date field\n",
    "alerts_df['published_at'].describe()"
   ]
  },
  {
   "cell_type": "markdown",
   "metadata": {},
   "source": [
    "Looking at the datetime column, the data in this dataset contains six months, from Jan 1st until July 7th 2021."
   ]
  },
  {
   "cell_type": "markdown",
   "metadata": {},
   "source": [
    "# Data exploration"
   ]
  },
  {
   "cell_type": "code",
   "execution_count": 17,
   "metadata": {},
   "outputs": [
    {
     "data": {
      "text/html": [
       "<div>\n",
       "<style scoped>\n",
       "    .dataframe tbody tr th:only-of-type {\n",
       "        vertical-align: middle;\n",
       "    }\n",
       "\n",
       "    .dataframe tbody tr th {\n",
       "        vertical-align: top;\n",
       "    }\n",
       "\n",
       "    .dataframe thead th {\n",
       "        text-align: right;\n",
       "    }\n",
       "</style>\n",
       "<table border=\"1\" class=\"dataframe\">\n",
       "  <thead>\n",
       "    <tr style=\"text-align: right;\">\n",
       "      <th></th>\n",
       "      <th>Unnamed: 0</th>\n",
       "      <th>event_date</th>\n",
       "      <th>event_timestamp</th>\n",
       "      <th>event_name</th>\n",
       "      <th>user_id</th>\n",
       "      <th>join_key_value</th>\n",
       "    </tr>\n",
       "  </thead>\n",
       "  <tbody>\n",
       "    <tr>\n",
       "      <th>0</th>\n",
       "      <td>0</td>\n",
       "      <td>2021-05-29</td>\n",
       "      <td>1622251203899000</td>\n",
       "      <td>notification_receive</td>\n",
       "      <td>283a1</td>\n",
       "      <td>-Maph6wn8GA3SjPIc9HA</td>\n",
       "    </tr>\n",
       "    <tr>\n",
       "      <th>1</th>\n",
       "      <td>1</td>\n",
       "      <td>2021-05-29</td>\n",
       "      <td>1622257988561000</td>\n",
       "      <td>notification_receive</td>\n",
       "      <td>283a1</td>\n",
       "      <td>-Maq63vqDUxQRawQ_3Au</td>\n",
       "    </tr>\n",
       "    <tr>\n",
       "      <th>2</th>\n",
       "      <td>2</td>\n",
       "      <td>2021-05-29</td>\n",
       "      <td>1622258235184001</td>\n",
       "      <td>notification_receive</td>\n",
       "      <td>283a1</td>\n",
       "      <td>-Maq7-D7bhcEaFBU1LDW</td>\n",
       "    </tr>\n",
       "    <tr>\n",
       "      <th>3</th>\n",
       "      <td>3</td>\n",
       "      <td>2021-05-29</td>\n",
       "      <td>1622260301025000</td>\n",
       "      <td>notification_receive</td>\n",
       "      <td>283a1</td>\n",
       "      <td>-MaqEsbKAqlxGG-RupjR</td>\n",
       "    </tr>\n",
       "    <tr>\n",
       "      <th>4</th>\n",
       "      <td>4</td>\n",
       "      <td>2021-05-29</td>\n",
       "      <td>1622293962198000</td>\n",
       "      <td>notification_receive</td>\n",
       "      <td>283a1</td>\n",
       "      <td>-MasFHCt_lTuNt_x16dH</td>\n",
       "    </tr>\n",
       "  </tbody>\n",
       "</table>\n",
       "</div>"
      ],
      "text/plain": [
       "   Unnamed: 0 event_date   event_timestamp            event_name user_id  \\\n",
       "0           0 2021-05-29  1622251203899000  notification_receive   283a1   \n",
       "1           1 2021-05-29  1622257988561000  notification_receive   283a1   \n",
       "2           2 2021-05-29  1622258235184001  notification_receive   283a1   \n",
       "3           3 2021-05-29  1622260301025000  notification_receive   283a1   \n",
       "4           4 2021-05-29  1622293962198000  notification_receive   283a1   \n",
       "\n",
       "         join_key_value  \n",
       "0  -Maph6wn8GA3SjPIc9HA  \n",
       "1  -Maq63vqDUxQRawQ_3Au  \n",
       "2  -Maq7-D7bhcEaFBU1LDW  \n",
       "3  -MaqEsbKAqlxGG-RupjR  \n",
       "4  -MasFHCt_lTuNt_x16dH  "
      ]
     },
     "execution_count": 17,
     "metadata": {},
     "output_type": "execute_result"
    }
   ],
   "source": [
    "notifications_df.head()"
   ]
  },
  {
   "cell_type": "markdown",
   "metadata": {},
   "source": [
    "Having a quick look at this dataset shows that it contains data on actions which took place after the message was sent. This table can likely be joined with the 'join_key_value' column."
   ]
  },
  {
   "cell_type": "code",
   "execution_count": 18,
   "metadata": {},
   "outputs": [
    {
     "data": {
      "text/plain": [
       "(2278151, 6)"
      ]
     },
     "execution_count": 18,
     "metadata": {},
     "output_type": "execute_result"
    }
   ],
   "source": [
    "notifications_df.shape"
   ]
  },
  {
   "cell_type": "markdown",
   "metadata": {},
   "source": [
    "The dataste contains 6 columns and ~2.3 million rows."
   ]
  },
  {
   "cell_type": "code",
   "execution_count": 19,
   "metadata": {},
   "outputs": [
    {
     "data": {
      "text/plain": [
       "join_key_value    0.021245\n",
       "dtype: float64"
      ]
     },
     "execution_count": 19,
     "metadata": {},
     "output_type": "execute_result"
    }
   ],
   "source": [
    "# Calculate the missing data % in training data\n",
    "missing_data = notifications_df.isna().sum() / notifications_df.isna().count() * 100\n",
    "missing_data[missing_data > 0].sort_values(ascending=False)"
   ]
  },
  {
   "cell_type": "code",
   "execution_count": 20,
   "metadata": {},
   "outputs": [
    {
     "data": {
      "text/html": [
       "<div>\n",
       "<style scoped>\n",
       "    .dataframe tbody tr th:only-of-type {\n",
       "        vertical-align: middle;\n",
       "    }\n",
       "\n",
       "    .dataframe tbody tr th {\n",
       "        vertical-align: top;\n",
       "    }\n",
       "\n",
       "    .dataframe thead th {\n",
       "        text-align: right;\n",
       "    }\n",
       "</style>\n",
       "<table border=\"1\" class=\"dataframe\">\n",
       "  <thead>\n",
       "    <tr style=\"text-align: right;\">\n",
       "      <th></th>\n",
       "      <th>Unnamed: 0</th>\n",
       "      <th>event_date</th>\n",
       "      <th>event_timestamp</th>\n",
       "      <th>event_name</th>\n",
       "      <th>user_id</th>\n",
       "      <th>join_key_value</th>\n",
       "    </tr>\n",
       "  </thead>\n",
       "  <tbody>\n",
       "    <tr>\n",
       "      <th>257</th>\n",
       "      <td>257</td>\n",
       "      <td>2021-05-29</td>\n",
       "      <td>1622258577858000</td>\n",
       "      <td>notification_opened</td>\n",
       "      <td>e8300</td>\n",
       "      <td>NaN</td>\n",
       "    </tr>\n",
       "    <tr>\n",
       "      <th>597</th>\n",
       "      <td>597</td>\n",
       "      <td>2021-05-29</td>\n",
       "      <td>1622254709611002</td>\n",
       "      <td>notification_opened</td>\n",
       "      <td>496f0</td>\n",
       "      <td>NaN</td>\n",
       "    </tr>\n",
       "    <tr>\n",
       "      <th>2036</th>\n",
       "      <td>2036</td>\n",
       "      <td>2021-05-29</td>\n",
       "      <td>1622254194462000</td>\n",
       "      <td>notification_opened</td>\n",
       "      <td>b28d8</td>\n",
       "      <td>NaN</td>\n",
       "    </tr>\n",
       "    <tr>\n",
       "      <th>6967</th>\n",
       "      <td>6967</td>\n",
       "      <td>2021-05-29</td>\n",
       "      <td>1622252667142002</td>\n",
       "      <td>notification_opened</td>\n",
       "      <td>cabbc</td>\n",
       "      <td>NaN</td>\n",
       "    </tr>\n",
       "    <tr>\n",
       "      <th>6972</th>\n",
       "      <td>6972</td>\n",
       "      <td>2021-05-29</td>\n",
       "      <td>1622295005683000</td>\n",
       "      <td>notification_opened</td>\n",
       "      <td>cabbc</td>\n",
       "      <td>NaN</td>\n",
       "    </tr>\n",
       "    <tr>\n",
       "      <th>...</th>\n",
       "      <td>...</td>\n",
       "      <td>...</td>\n",
       "      <td>...</td>\n",
       "      <td>...</td>\n",
       "      <td>...</td>\n",
       "      <td>...</td>\n",
       "    </tr>\n",
       "    <tr>\n",
       "      <th>2203079</th>\n",
       "      <td>2203079</td>\n",
       "      <td>2021-06-30</td>\n",
       "      <td>1625060955781006</td>\n",
       "      <td>notification_view_alternatives</td>\n",
       "      <td>b2f91</td>\n",
       "      <td>NaN</td>\n",
       "    </tr>\n",
       "    <tr>\n",
       "      <th>2207594</th>\n",
       "      <td>2207594</td>\n",
       "      <td>2021-06-30</td>\n",
       "      <td>1625015183970000</td>\n",
       "      <td>notification_opened</td>\n",
       "      <td>3e06f</td>\n",
       "      <td>NaN</td>\n",
       "    </tr>\n",
       "    <tr>\n",
       "      <th>2207605</th>\n",
       "      <td>2207605</td>\n",
       "      <td>2021-06-30</td>\n",
       "      <td>1625022975179003</td>\n",
       "      <td>notification_opened</td>\n",
       "      <td>3e06f</td>\n",
       "      <td>NaN</td>\n",
       "    </tr>\n",
       "    <tr>\n",
       "      <th>2207610</th>\n",
       "      <td>2207610</td>\n",
       "      <td>2021-06-30</td>\n",
       "      <td>1625048595336000</td>\n",
       "      <td>notification_opened</td>\n",
       "      <td>3e06f</td>\n",
       "      <td>NaN</td>\n",
       "    </tr>\n",
       "    <tr>\n",
       "      <th>2238798</th>\n",
       "      <td>2238798</td>\n",
       "      <td>2021-07-06</td>\n",
       "      <td>1625529404285002</td>\n",
       "      <td>notification_opened</td>\n",
       "      <td>ec750</td>\n",
       "      <td>NaN</td>\n",
       "    </tr>\n",
       "  </tbody>\n",
       "</table>\n",
       "<p>484 rows × 6 columns</p>\n",
       "</div>"
      ],
      "text/plain": [
       "         Unnamed: 0 event_date   event_timestamp  \\\n",
       "257             257 2021-05-29  1622258577858000   \n",
       "597             597 2021-05-29  1622254709611002   \n",
       "2036           2036 2021-05-29  1622254194462000   \n",
       "6967           6967 2021-05-29  1622252667142002   \n",
       "6972           6972 2021-05-29  1622295005683000   \n",
       "...             ...        ...               ...   \n",
       "2203079     2203079 2021-06-30  1625060955781006   \n",
       "2207594     2207594 2021-06-30  1625015183970000   \n",
       "2207605     2207605 2021-06-30  1625022975179003   \n",
       "2207610     2207610 2021-06-30  1625048595336000   \n",
       "2238798     2238798 2021-07-06  1625529404285002   \n",
       "\n",
       "                             event_name user_id join_key_value  \n",
       "257                 notification_opened   e8300            NaN  \n",
       "597                 notification_opened   496f0            NaN  \n",
       "2036                notification_opened   b28d8            NaN  \n",
       "6967                notification_opened   cabbc            NaN  \n",
       "6972                notification_opened   cabbc            NaN  \n",
       "...                                 ...     ...            ...  \n",
       "2203079  notification_view_alternatives   b2f91            NaN  \n",
       "2207594             notification_opened   3e06f            NaN  \n",
       "2207605             notification_opened   3e06f            NaN  \n",
       "2207610             notification_opened   3e06f            NaN  \n",
       "2238798             notification_opened   ec750            NaN  \n",
       "\n",
       "[484 rows x 6 columns]"
      ]
     },
     "execution_count": 20,
     "metadata": {},
     "output_type": "execute_result"
    }
   ],
   "source": [
    "notifications_df[notifications_df['join_key_value'].isnull()]"
   ]
  },
  {
   "cell_type": "markdown",
   "metadata": {},
   "source": [
    "This data shows that the column 'join_key_value' is missing 2% of values. Considering the small sample without these values, I will likely drop them from this analysis. \n",
    "\n",
    "If the objective of this exercise would be to create a system that can be applied to customers, I would've recommended an internal investigation to find out why those values are missing."
   ]
  },
  {
   "cell_type": "code",
   "execution_count": 21,
   "metadata": {},
   "outputs": [
    {
     "data": {
      "text/plain": [
       "<AxesSubplot:>"
      ]
     },
     "execution_count": 21,
     "metadata": {},
     "output_type": "execute_result"
    },
    {
     "data": {
      "image/png": "[encoded data removed]",
      "text/plain": [
       "<Figure size 432x288 with 1 Axes>"
      ]
     },
     "metadata": {
      "needs_background": "light"
     },
     "output_type": "display_data"
    }
   ],
   "source": [
    "# Visualise missing data\n",
    "sns.heatmap(notifications_df.isnull(), yticklabels=False, cbar=False, cmap='viridis')"
   ]
  },
  {
   "cell_type": "code",
   "execution_count": 22,
   "metadata": {},
   "outputs": [
    {
     "name": "stderr",
     "output_type": "stream",
     "text": [
      "C:\\Users\\michiel.HEPSTAR\\AppData\\Local\\Continuum\\anaconda3a\\lib\\site-packages\\ipykernel_launcher.py:1: FutureWarning: Treating datetime data as categorical rather than numeric in `.describe` is deprecated and will be removed in a future version of pandas. Specify `datetime_is_numeric=True` to silence this warning and adopt the future behavior now.\n",
      "  \"\"\"Entry point for launching an IPython kernel.\n"
     ]
    },
    {
     "data": {
      "text/plain": [
       "count                 2278151\n",
       "unique                    189\n",
       "top       2021-03-26 00:00:00\n",
       "freq                    25531\n",
       "first     2021-01-01 00:00:00\n",
       "last      2021-07-08 00:00:00\n",
       "Name: event_date, dtype: object"
      ]
     },
     "execution_count": 22,
     "metadata": {},
     "output_type": "execute_result"
    }
   ],
   "source": [
    "notifications_df['event_date'].describe()"
   ]
  },
  {
   "cell_type": "markdown",
   "metadata": {},
   "source": [
    "This dataset contains one more day than the alerts dataset (2021-07-08). This will likely be useful, as it may take some time for customers to take any action on the message they receive."
   ]
  },
  {
   "cell_type": "code",
   "execution_count": 23,
   "metadata": {},
   "outputs": [],
   "source": [
    "# Recode similar event names\n",
    "notifications_df['event_name'].replace('notification_received',\n",
    "                                       'notification_receive', inplace=True)\n",
    "notifications_df['event_name'].replace('notification_opened',\n",
    "                                       'notification_open', inplace=True)"
   ]
  },
  {
   "cell_type": "code",
   "execution_count": 24,
   "metadata": {},
   "outputs": [
    {
     "data": {
      "text/plain": [
       "notification_receive              1353372\n",
       "notification_dismiss               884049\n",
       "notification_open                   40049\n",
       "notification_share                    523\n",
       "notification_view_alternatives        158\n",
       "Name: event_name, dtype: int64"
      ]
     },
     "execution_count": 24,
     "metadata": {},
     "output_type": "execute_result"
    }
   ],
   "source": [
    "notifications_df['event_name'].value_counts()"
   ]
  },
  {
   "cell_type": "markdown",
   "metadata": {},
   "source": [
    "Looking at the event type column, there are quite a few similar events. According to the exercise description, similar exercises can be combined."
   ]
  },
  {
   "cell_type": "code",
   "execution_count": 25,
   "metadata": {},
   "outputs": [
    {
     "data": {
      "text/plain": [
       "notification_receive              1353372\n",
       "notification_dismiss               884049\n",
       "notification_open                   40049\n",
       "notification_share                    523\n",
       "notification_view_alternatives        158\n",
       "Name: event_name, dtype: int64"
      ]
     },
     "execution_count": 25,
     "metadata": {},
     "output_type": "execute_result"
    }
   ],
   "source": [
    "notifications_df['event_name'].value_counts()"
   ]
  },
  {
   "cell_type": "markdown",
   "metadata": {},
   "source": [
    "After recoding, we can see 5 types of notifications. The receive notification is the most common category, which makes sense as most users will receive a message.\n",
    "\n",
    "Also, not all users who received a notification have any follow-up event. Some users may not have interacted based on the message they received or they may not have received any messages."
   ]
  },
  {
   "cell_type": "markdown",
   "metadata": {},
   "source": [
    "Looking at the notifications per user, 8ac62 is the most active one with 5750 notifications."
   ]
  },
  {
   "cell_type": "code",
   "execution_count": 26,
   "metadata": {},
   "outputs": [
    {
     "data": {
      "text/plain": [
       "notification_receive    2951\n",
       "notification_dismiss    2747\n",
       "notification_open         52\n",
       "Name: event_name, dtype: int64"
      ]
     },
     "execution_count": 26,
     "metadata": {},
     "output_type": "execute_result"
    }
   ],
   "source": [
    "notifications_df[notifications_df['user_id'] == '8ac62']['event_name'].value_counts()"
   ]
  },
  {
   "cell_type": "markdown",
   "metadata": {},
   "source": [
    "When looking at the notifications for that user, interestingly only 52 messages were opened and most were dismissed (93%)."
   ]
  },
  {
   "cell_type": "markdown",
   "metadata": {},
   "source": [
    "# Next"
   ]
  },
  {
   "cell_type": "markdown",
   "metadata": {},
   "source": [
    "Now that we have a fairly good idea on which data this dataset contains, the next step is to create the customer segments as per the requirements."
   ]
  }
 ],
 "metadata": {
  "kernelspec": {
   "display_name": "Python 3",
   "language": "python",
   "name": "python3"
  },
  "language_info": {
   "codemirror_mode": {
    "name": "ipython",
    "version": 3
   },
   "file_extension": ".py",
   "mimetype": "text/x-python",
   "name": "python",
   "nbconvert_exporter": "python",
   "pygments_lexer": "ipython3",
   "version": "3.6.12"
  }
 },
 "nbformat": 4,
 "nbformat_minor": 4
}
