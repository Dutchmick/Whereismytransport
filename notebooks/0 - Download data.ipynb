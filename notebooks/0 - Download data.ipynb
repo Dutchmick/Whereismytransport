{
 "cells": [
  {
   "cell_type": "markdown",
   "metadata": {},
   "source": [
    "# Notebook objective"
   ]
  },
  {
   "cell_type": "markdown",
   "metadata": {},
   "source": [
    "This notebook's objective is to provide an automated way to download the dataset provided by the Whereismytransport team into a 'raw' data folder.\n",
    "\n",
    "This makes the analysis easier to replicate by team members and more robust as the manual manipulation of the dataset (eg download, save file) would no longer be required."
   ]
  },
  {
   "cell_type": "markdown",
   "metadata": {},
   "source": [
    "Assessment source: https://drive.google.com/drive/folders/1akT7jbXYy2-zLHEtnK3q6vqcQ-JdRO9H"
   ]
  },
  {
   "cell_type": "markdown",
   "metadata": {},
   "source": [
    "# Preparation"
   ]
  },
  {
   "cell_type": "markdown",
   "metadata": {},
   "source": [
    "## Import required libraries"
   ]
  },
  {
   "cell_type": "code",
   "execution_count": 1,
   "metadata": {},
   "outputs": [],
   "source": [
    "import os\n",
    "import gdown"
   ]
  },
  {
   "cell_type": "markdown",
   "metadata": {},
   "source": [
    "## Folder structure"
   ]
  },
  {
   "cell_type": "code",
   "execution_count": 2,
   "metadata": {},
   "outputs": [],
   "source": [
    "# Make root folder the current working directory\n",
    "os.chdir('..')\n",
    "input_folder = './data/raw/'\n",
    "output_folder = './reports/figures/'"
   ]
  },
  {
   "cell_type": "markdown",
   "metadata": {},
   "source": [
    "## Download datasets"
   ]
  },
  {
   "cell_type": "code",
   "execution_count": 3,
   "metadata": {},
   "outputs": [],
   "source": [
    "url_alerts = \"https://drive.google.com/file/d/1u98UkVheVIcyXx-ir1Gp5fggsu2V3ztC/view?usp=sharing\"\n",
    "url_notifications = \"https://drive.google.com/file/d/1KpW7s4_JfJ-rz2vT14AjL1WwPmI-3Zgy/view?usp=sharing\""
   ]
  },
  {
   "cell_type": "code",
   "execution_count": 4,
   "metadata": {},
   "outputs": [
    {
     "name": "stderr",
     "output_type": "stream",
     "text": [
      "Downloading...\n",
      "From: https://drive.google.com/uc?id=1u98UkVheVIcyXx-ir1Gp5fggsu2V3ztC\n",
      "To: C:\\Users\\michiel.HEPSTAR\\Dropbox\\Data science\\Kaggle\\20211206 Assessment Whereismytransport\\Assessment Michiel Wolvers\\data\\raw\\alerts.csv\n",
      "100%|█████████████████████████████████████████████████████████████████████████████| 2.42M/2.42M [00:01<00:00, 1.43MB/s]\n",
      "Downloading...\n",
      "From: https://drive.google.com/uc?id=1KpW7s4_JfJ-rz2vT14AjL1WwPmI-3Zgy\n",
      "To: C:\\Users\\michiel.HEPSTAR\\Dropbox\\Data science\\Kaggle\\20211206 Assessment Whereismytransport\\Assessment Michiel Wolvers\\data\\raw\\notfications.csv\n",
      "100%|███████████████████████████████████████████████████████████████████████████████| 190M/190M [00:46<00:00, 4.12MB/s]\n"
     ]
    }
   ],
   "source": [
    "os.chdir(input_folder)\n",
    "gdown.download(url_alerts, fuzzy=True)\n",
    "gdown.download(url_notifications, fuzzy=True)\n",
    "os.chdir('..')"
   ]
  }
 ],
 "metadata": {
  "kernelspec": {
   "display_name": "Python 3",
   "language": "python",
   "name": "python3"
  },
  "language_info": {
   "codemirror_mode": {
    "name": "ipython",
    "version": 3
   },
   "file_extension": ".py",
   "mimetype": "text/x-python",
   "name": "python",
   "nbconvert_exporter": "python",
   "pygments_lexer": "ipython3",
   "version": "3.6.12"
  }
 },
 "nbformat": 4,
 "nbformat_minor": 4
}
